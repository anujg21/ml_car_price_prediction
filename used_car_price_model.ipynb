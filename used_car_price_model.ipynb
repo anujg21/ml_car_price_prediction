{
 "cells": [
  {
   "cell_type": "markdown",
   "metadata": {},
   "source": [
    "# What drives the price of a car?\n",
    "\n",
    "![](images/kurt.jpeg)"
   ]
  },
  {
   "cell_type": "markdown",
   "metadata": {},
   "source": [
    "**OVERVIEW**\n",
    "\n",
    "In this application, you will explore a dataset from kaggle. The original dataset contained information on 3 million used cars. The provided dataset contains information on 426K cars to ensure speed of processing.  Your goal is to understand what factors make a car more or less expensive.  As a result of your analysis, you should provide clear recommendations to your client -- a used car dealership -- as to what consumers value in a used car."
   ]
  },
  {
   "cell_type": "markdown",
   "metadata": {},
   "source": [
    "### CRISP-DM Framework\n",
    "\n",
    "<center>\n",
    "    <img src = images/crisp.png width = 50%/>\n",
    "</center>\n",
    "\n",
    "\n",
    "To frame the task, throughout our practical applications we will refer back to a standard process in industry for data projects called CRISP-DM.  This process provides a framework for working through a data problem.  Your first step in this application will be to read through a brief overview of CRISP-DM [here](https://mo-pcco.s3.us-east-1.amazonaws.com/BH-PCMLAI/module_11/readings_starter.zip).  After reading the overview, answer the questions below."
   ]
  },
  {
   "cell_type": "markdown",
   "metadata": {},
   "source": [
    "### Business Understanding\n",
    "\n",
    "From a business perspective, we are tasked with identifying key drivers for used car prices.  In the CRISP-DM overview, we are asked to convert this business framing to a data problem definition.  Using a few sentences, reframe the task as a data task with the appropriate technical vocabulary. "
   ]
  },
  {
   "cell_type": "markdown",
   "metadata": {},
   "source": [
    "#### Business Understanding of the data \n",
    "\n",
    "The aim of the data provided is to construct the Machine learning model that helps predict the factor consituting the price of the used cars. "
   ]
  },
  {
   "cell_type": "code",
   "execution_count": 1,
   "metadata": {},
   "outputs": [],
   "source": [
    "#panda\n",
    "import pandas as pd\n",
    "import numpy as np\n",
    "\n",
    "# statmodel columns transformer / preprocessing \n",
    "from sklearn.preprocessing import OrdinalEncoder\n",
    "from sklearn.preprocessing import StandardScaler\n",
    "from sklearn.preprocessing import OneHotEncoder\n",
    "from sklearn.preprocessing import LabelEncoder\n",
    "\n",
    "from sklearn.experimental import enable_iterative_imputer\n",
    "from sklearn.impute import IterativeImputer\n",
    "\n",
    "from sklearn.pipeline import make_pipeline\n",
    "from sklearn.pipeline import Pipeline\n",
    "from sklearn.compose import ColumnTransformer\n",
    "from sklearn.compose import make_column_transformer\n",
    "\n",
    "from sklearn import set_config\n",
    "set_config(display='diagram')\n",
    "\n",
    "from sklearn.impute import SimpleImputer\n",
    "\n",
    "import missingno as msno # to visualize the missing value\n",
    "\n",
    "#plotting library \n",
    "import seaborn as sns\n",
    "import matplotlib.pyplot as plt\n",
    "import plotly.express as px\n",
    "\n",
    "# Normalization\n",
    "from sklearn.preprocessing import MinMaxScaler\n",
    "from sklearn.model_selection import train_test_split\n",
    "from sklearn.linear_model import LinearRegression, Lasso, Ridge\n",
    "\n",
    "#model validation / selection\n",
    "from sklearn.model_selection import cross_val_score\n",
    "from sklearn.model_selection import RepeatedKFold\n",
    "\n",
    "#Calculating Loss Function MSE, Absolute Loss, Huber Loss\n",
    "from sklearn.metrics import mean_squared_error, mean_absolute_error\n",
    "\n",
    "#other OS\n",
    "# Importing libraries\n",
    "import os\n",
    "import warnings\n",
    "warnings.filterwarnings('ignore')\n"
   ]
  },
  {
   "cell_type": "code",
   "execution_count": 2,
   "metadata": {},
   "outputs": [],
   "source": [
    "auto = pd.read_csv('/Users/mma0812/Downloads/practical_application_II_starter/data/vehicles.csv')"
   ]
  },
  {
   "cell_type": "code",
   "execution_count": 3,
   "metadata": {},
   "outputs": [
    {
     "data": {
      "text/html": [
       "<div>\n",
       "<style scoped>\n",
       "    .dataframe tbody tr th:only-of-type {\n",
       "        vertical-align: middle;\n",
       "    }\n",
       "\n",
       "    .dataframe tbody tr th {\n",
       "        vertical-align: top;\n",
       "    }\n",
       "\n",
       "    .dataframe thead th {\n",
       "        text-align: right;\n",
       "    }\n",
       "</style>\n",
       "<table border=\"1\" class=\"dataframe\">\n",
       "  <thead>\n",
       "    <tr style=\"text-align: right;\">\n",
       "      <th></th>\n",
       "      <th>id</th>\n",
       "      <th>price</th>\n",
       "      <th>year</th>\n",
       "      <th>odometer</th>\n",
       "    </tr>\n",
       "  </thead>\n",
       "  <tbody>\n",
       "    <tr>\n",
       "      <th>count</th>\n",
       "      <td>4.268800e+05</td>\n",
       "      <td>4.268800e+05</td>\n",
       "      <td>425675.000000</td>\n",
       "      <td>4.224800e+05</td>\n",
       "    </tr>\n",
       "    <tr>\n",
       "      <th>mean</th>\n",
       "      <td>7.311487e+09</td>\n",
       "      <td>7.519903e+04</td>\n",
       "      <td>2011.235191</td>\n",
       "      <td>9.804333e+04</td>\n",
       "    </tr>\n",
       "    <tr>\n",
       "      <th>std</th>\n",
       "      <td>4.473170e+06</td>\n",
       "      <td>1.218228e+07</td>\n",
       "      <td>9.452120</td>\n",
       "      <td>2.138815e+05</td>\n",
       "    </tr>\n",
       "    <tr>\n",
       "      <th>min</th>\n",
       "      <td>7.207408e+09</td>\n",
       "      <td>0.000000e+00</td>\n",
       "      <td>1900.000000</td>\n",
       "      <td>0.000000e+00</td>\n",
       "    </tr>\n",
       "    <tr>\n",
       "      <th>25%</th>\n",
       "      <td>7.308143e+09</td>\n",
       "      <td>5.900000e+03</td>\n",
       "      <td>2008.000000</td>\n",
       "      <td>3.770400e+04</td>\n",
       "    </tr>\n",
       "    <tr>\n",
       "      <th>50%</th>\n",
       "      <td>7.312621e+09</td>\n",
       "      <td>1.395000e+04</td>\n",
       "      <td>2013.000000</td>\n",
       "      <td>8.554800e+04</td>\n",
       "    </tr>\n",
       "    <tr>\n",
       "      <th>75%</th>\n",
       "      <td>7.315254e+09</td>\n",
       "      <td>2.648575e+04</td>\n",
       "      <td>2017.000000</td>\n",
       "      <td>1.335425e+05</td>\n",
       "    </tr>\n",
       "    <tr>\n",
       "      <th>max</th>\n",
       "      <td>7.317101e+09</td>\n",
       "      <td>3.736929e+09</td>\n",
       "      <td>2022.000000</td>\n",
       "      <td>1.000000e+07</td>\n",
       "    </tr>\n",
       "  </tbody>\n",
       "</table>\n",
       "</div>"
      ],
      "text/plain": [
       "                 id         price           year      odometer\n",
       "count  4.268800e+05  4.268800e+05  425675.000000  4.224800e+05\n",
       "mean   7.311487e+09  7.519903e+04    2011.235191  9.804333e+04\n",
       "std    4.473170e+06  1.218228e+07       9.452120  2.138815e+05\n",
       "min    7.207408e+09  0.000000e+00    1900.000000  0.000000e+00\n",
       "25%    7.308143e+09  5.900000e+03    2008.000000  3.770400e+04\n",
       "50%    7.312621e+09  1.395000e+04    2013.000000  8.554800e+04\n",
       "75%    7.315254e+09  2.648575e+04    2017.000000  1.335425e+05\n",
       "max    7.317101e+09  3.736929e+09    2022.000000  1.000000e+07"
      ]
     },
     "execution_count": 3,
     "metadata": {},
     "output_type": "execute_result"
    }
   ],
   "source": [
    "auto.describe()"
   ]
  },
  {
   "cell_type": "code",
   "execution_count": 4,
   "metadata": {},
   "outputs": [
    {
     "name": "stdout",
     "output_type": "stream",
     "text": [
      "<class 'pandas.core.frame.DataFrame'>\n",
      "RangeIndex: 426880 entries, 0 to 426879\n",
      "Data columns (total 18 columns):\n",
      " #   Column        Non-Null Count   Dtype  \n",
      "---  ------        --------------   -----  \n",
      " 0   id            426880 non-null  int64  \n",
      " 1   region        426880 non-null  object \n",
      " 2   price         426880 non-null  int64  \n",
      " 3   year          425675 non-null  float64\n",
      " 4   manufacturer  409234 non-null  object \n",
      " 5   model         421603 non-null  object \n",
      " 6   condition     252776 non-null  object \n",
      " 7   cylinders     249202 non-null  object \n",
      " 8   fuel          423867 non-null  object \n",
      " 9   odometer      422480 non-null  float64\n",
      " 10  title_status  418638 non-null  object \n",
      " 11  transmission  424324 non-null  object \n",
      " 12  VIN           265838 non-null  object \n",
      " 13  drive         296313 non-null  object \n",
      " 14  size          120519 non-null  object \n",
      " 15  type          334022 non-null  object \n",
      " 16  paint_color   296677 non-null  object \n",
      " 17  state         426880 non-null  object \n",
      "dtypes: float64(2), int64(2), object(14)\n",
      "memory usage: 58.6+ MB\n"
     ]
    }
   ],
   "source": [
    "auto.info()"
   ]
  },
  {
   "cell_type": "code",
   "execution_count": 5,
   "metadata": {},
   "outputs": [
    {
     "data": {
      "text/plain": [
       "id                   0\n",
       "region               0\n",
       "price                0\n",
       "year              1205\n",
       "manufacturer     17646\n",
       "model             5277\n",
       "condition       174104\n",
       "cylinders       177678\n",
       "fuel              3013\n",
       "odometer          4400\n",
       "title_status      8242\n",
       "transmission      2556\n",
       "VIN             161042\n",
       "drive           130567\n",
       "size            306361\n",
       "type             92858\n",
       "paint_color     130203\n",
       "state                0\n",
       "dtype: int64"
      ]
     },
     "execution_count": 5,
     "metadata": {},
     "output_type": "execute_result"
    }
   ],
   "source": [
    "auto.isnull().sum(axis = 0)"
   ]
  },
  {
   "cell_type": "code",
   "execution_count": 6,
   "metadata": {},
   "outputs": [
    {
     "data": {
      "text/html": [
       "<div>\n",
       "<style scoped>\n",
       "    .dataframe tbody tr th:only-of-type {\n",
       "        vertical-align: middle;\n",
       "    }\n",
       "\n",
       "    .dataframe tbody tr th {\n",
       "        vertical-align: top;\n",
       "    }\n",
       "\n",
       "    .dataframe thead th {\n",
       "        text-align: right;\n",
       "    }\n",
       "</style>\n",
       "<table border=\"1\" class=\"dataframe\">\n",
       "  <thead>\n",
       "    <tr style=\"text-align: right;\">\n",
       "      <th></th>\n",
       "      <th>id</th>\n",
       "      <th>region</th>\n",
       "      <th>price</th>\n",
       "      <th>year</th>\n",
       "      <th>manufacturer</th>\n",
       "      <th>model</th>\n",
       "      <th>condition</th>\n",
       "      <th>cylinders</th>\n",
       "      <th>fuel</th>\n",
       "      <th>odometer</th>\n",
       "      <th>title_status</th>\n",
       "      <th>transmission</th>\n",
       "      <th>VIN</th>\n",
       "      <th>drive</th>\n",
       "      <th>size</th>\n",
       "      <th>type</th>\n",
       "      <th>paint_color</th>\n",
       "      <th>state</th>\n",
       "    </tr>\n",
       "  </thead>\n",
       "  <tbody>\n",
       "    <tr>\n",
       "      <th>426875</th>\n",
       "      <td>7301591192</td>\n",
       "      <td>wyoming</td>\n",
       "      <td>23590</td>\n",
       "      <td>2019.0</td>\n",
       "      <td>nissan</td>\n",
       "      <td>maxima s sedan 4d</td>\n",
       "      <td>good</td>\n",
       "      <td>6 cylinders</td>\n",
       "      <td>gas</td>\n",
       "      <td>32226.0</td>\n",
       "      <td>clean</td>\n",
       "      <td>other</td>\n",
       "      <td>1N4AA6AV6KC367801</td>\n",
       "      <td>fwd</td>\n",
       "      <td>NaN</td>\n",
       "      <td>sedan</td>\n",
       "      <td>NaN</td>\n",
       "      <td>wy</td>\n",
       "    </tr>\n",
       "    <tr>\n",
       "      <th>426876</th>\n",
       "      <td>7301591187</td>\n",
       "      <td>wyoming</td>\n",
       "      <td>30590</td>\n",
       "      <td>2020.0</td>\n",
       "      <td>volvo</td>\n",
       "      <td>s60 t5 momentum sedan 4d</td>\n",
       "      <td>good</td>\n",
       "      <td>NaN</td>\n",
       "      <td>gas</td>\n",
       "      <td>12029.0</td>\n",
       "      <td>clean</td>\n",
       "      <td>other</td>\n",
       "      <td>7JR102FKXLG042696</td>\n",
       "      <td>fwd</td>\n",
       "      <td>NaN</td>\n",
       "      <td>sedan</td>\n",
       "      <td>red</td>\n",
       "      <td>wy</td>\n",
       "    </tr>\n",
       "    <tr>\n",
       "      <th>426877</th>\n",
       "      <td>7301591147</td>\n",
       "      <td>wyoming</td>\n",
       "      <td>34990</td>\n",
       "      <td>2020.0</td>\n",
       "      <td>cadillac</td>\n",
       "      <td>xt4 sport suv 4d</td>\n",
       "      <td>good</td>\n",
       "      <td>NaN</td>\n",
       "      <td>diesel</td>\n",
       "      <td>4174.0</td>\n",
       "      <td>clean</td>\n",
       "      <td>other</td>\n",
       "      <td>1GYFZFR46LF088296</td>\n",
       "      <td>NaN</td>\n",
       "      <td>NaN</td>\n",
       "      <td>hatchback</td>\n",
       "      <td>white</td>\n",
       "      <td>wy</td>\n",
       "    </tr>\n",
       "    <tr>\n",
       "      <th>426878</th>\n",
       "      <td>7301591140</td>\n",
       "      <td>wyoming</td>\n",
       "      <td>28990</td>\n",
       "      <td>2018.0</td>\n",
       "      <td>lexus</td>\n",
       "      <td>es 350 sedan 4d</td>\n",
       "      <td>good</td>\n",
       "      <td>6 cylinders</td>\n",
       "      <td>gas</td>\n",
       "      <td>30112.0</td>\n",
       "      <td>clean</td>\n",
       "      <td>other</td>\n",
       "      <td>58ABK1GG4JU103853</td>\n",
       "      <td>fwd</td>\n",
       "      <td>NaN</td>\n",
       "      <td>sedan</td>\n",
       "      <td>silver</td>\n",
       "      <td>wy</td>\n",
       "    </tr>\n",
       "    <tr>\n",
       "      <th>426879</th>\n",
       "      <td>7301591129</td>\n",
       "      <td>wyoming</td>\n",
       "      <td>30590</td>\n",
       "      <td>2019.0</td>\n",
       "      <td>bmw</td>\n",
       "      <td>4 series 430i gran coupe</td>\n",
       "      <td>good</td>\n",
       "      <td>NaN</td>\n",
       "      <td>gas</td>\n",
       "      <td>22716.0</td>\n",
       "      <td>clean</td>\n",
       "      <td>other</td>\n",
       "      <td>WBA4J1C58KBM14708</td>\n",
       "      <td>rwd</td>\n",
       "      <td>NaN</td>\n",
       "      <td>coupe</td>\n",
       "      <td>NaN</td>\n",
       "      <td>wy</td>\n",
       "    </tr>\n",
       "  </tbody>\n",
       "</table>\n",
       "</div>"
      ],
      "text/plain": [
       "                id   region  price    year manufacturer  \\\n",
       "426875  7301591192  wyoming  23590  2019.0       nissan   \n",
       "426876  7301591187  wyoming  30590  2020.0        volvo   \n",
       "426877  7301591147  wyoming  34990  2020.0     cadillac   \n",
       "426878  7301591140  wyoming  28990  2018.0        lexus   \n",
       "426879  7301591129  wyoming  30590  2019.0          bmw   \n",
       "\n",
       "                           model condition    cylinders    fuel  odometer  \\\n",
       "426875         maxima s sedan 4d      good  6 cylinders     gas   32226.0   \n",
       "426876  s60 t5 momentum sedan 4d      good          NaN     gas   12029.0   \n",
       "426877          xt4 sport suv 4d      good          NaN  diesel    4174.0   \n",
       "426878           es 350 sedan 4d      good  6 cylinders     gas   30112.0   \n",
       "426879  4 series 430i gran coupe      good          NaN     gas   22716.0   \n",
       "\n",
       "       title_status transmission                VIN drive size       type  \\\n",
       "426875        clean        other  1N4AA6AV6KC367801   fwd  NaN      sedan   \n",
       "426876        clean        other  7JR102FKXLG042696   fwd  NaN      sedan   \n",
       "426877        clean        other  1GYFZFR46LF088296   NaN  NaN  hatchback   \n",
       "426878        clean        other  58ABK1GG4JU103853   fwd  NaN      sedan   \n",
       "426879        clean        other  WBA4J1C58KBM14708   rwd  NaN      coupe   \n",
       "\n",
       "       paint_color state  \n",
       "426875         NaN    wy  \n",
       "426876         red    wy  \n",
       "426877       white    wy  \n",
       "426878      silver    wy  \n",
       "426879         NaN    wy  "
      ]
     },
     "execution_count": 6,
     "metadata": {},
     "output_type": "execute_result"
    }
   ],
   "source": [
    "auto.tail()\n"
   ]
  },
  {
   "cell_type": "markdown",
   "metadata": {},
   "source": [
    "### Data Understanding\n",
    "\n",
    "After considering the business understanding, we want to get familiar with our data.  Write down some steps that you would take to get to know the dataset and identify any quality issues within.  Take time to get to know the dataset and explore what information it contains and how this could be used to inform your business understanding."
   ]
  },
  {
   "cell_type": "code",
   "execution_count": 7,
   "metadata": {},
   "outputs": [],
   "source": [
    "# Let's make the copy of the dataframe for further processing. \n",
    "\n",
    "auto_copy = auto.copy()"
   ]
  },
  {
   "cell_type": "code",
   "execution_count": 8,
   "metadata": {},
   "outputs": [
    {
     "data": {
      "image/png": "[encoded data removed]",
      "text/plain": [
       "<Figure size 360x360 with 1 Axes>"
      ]
     },
     "metadata": {
      "needs_background": "light"
     },
     "output_type": "display_data"
    }
   ],
   "source": [
    "fig,axs=plt.subplots()\n",
    "fig.set_size_inches(5,5)\n",
    "\n",
    "p1=sns.boxplot(x=auto_copy['year'])\n",
    "axs.set_title('Figure 1')\n",
    "\n",
    "plt.show()"
   ]
  },
  {
   "cell_type": "code",
   "execution_count": 9,
   "metadata": {},
   "outputs": [
    {
     "data": {
      "image/png": "[encoded data removed]",
      "text/plain": [
       "<Figure size 432x288 with 1 Axes>"
      ]
     },
     "metadata": {
      "needs_background": "light"
     },
     "output_type": "display_data"
    }
   ],
   "source": [
    "#distribution of price based on the type of car. \n",
    "sns.barplot(x='type',y='price',data=auto_copy)\n",
    "plt.xticks(rotation=70)\n",
    "plt.show()\n",
    "\n",
    "# Looks pickup are the most pricer. "
   ]
  },
  {
   "cell_type": "code",
   "execution_count": 10,
   "metadata": {},
   "outputs": [
    {
     "data": {
      "image/png": "[encoded data removed]",
      "text/plain": [
       "<Figure size 432x288 with 1 Axes>"
      ]
     },
     "metadata": {
      "needs_background": "light"
     },
     "output_type": "display_data"
    }
   ],
   "source": [
    "sns.barplot(x='fuel',y='price', data=auto_copy)\n",
    "plt.xticks(rotation=70)\n",
    "plt.show()"
   ]
  },
  {
   "cell_type": "code",
   "execution_count": 11,
   "metadata": {},
   "outputs": [
    {
     "data": {
      "image/png": "[encoded data removed]",
      "text/plain": [
       "<Figure size 432x288 with 1 Axes>"
      ]
     },
     "metadata": {
      "needs_background": "light"
     },
     "output_type": "display_data"
    }
   ],
   "source": [
    "sns.barplot(x='condition',y='price', data=auto_copy)\n",
    "plt.xticks(rotation=70)\n",
    "plt.show()"
   ]
  },
  {
   "cell_type": "code",
   "execution_count": 12,
   "metadata": {},
   "outputs": [
    {
     "data": {
      "image/png": "[encoded data removed]",
      "text/plain": [
       "<Figure size 432x288 with 1 Axes>"
      ]
     },
     "metadata": {
      "needs_background": "light"
     },
     "output_type": "display_data"
    }
   ],
   "source": [
    "sns.barplot(x='size',y='price', hue='drive', data=auto_copy)\n",
    "plt.xticks(rotation=70)\n",
    "plt.show()"
   ]
  },
  {
   "cell_type": "code",
   "execution_count": 70,
   "metadata": {},
   "outputs": [
    {
     "data": {
      "image/png": "[encoded data removed]",
      "text/plain": [
       "<Figure size 1440x720 with 1 Axes>"
      ]
     },
     "metadata": {
      "needs_background": "light"
     },
     "output_type": "display_data"
    }
   ],
   "source": [
    "fig,axs=plt.subplots()\n",
    "fig.set_size_inches(20,10)\n",
    "sns.barplot(x='manufacturer',y='price',data=auto)\n",
    "plt.xticks(rotation=91)\n",
    "plt.show()"
   ]
  },
  {
   "cell_type": "code",
   "execution_count": 73,
   "metadata": {},
   "outputs": [
    {
     "data": {
      "image/png": "[encoded data removed]",
      "text/plain": [
       "<Figure size 1440x720 with 1 Axes>"
      ]
     },
     "metadata": {
      "needs_background": "light"
     },
     "output_type": "display_data"
    }
   ],
   "source": [
    "fig,axs=plt.subplots()\n",
    "fig.set_size_inches(20,10)\n",
    "sns.barplot(x='paint_color',y='price', data=auto)\n",
    "plt.xticks(rotation=91)\n",
    "plt.show()"
   ]
  },
  {
   "cell_type": "code",
   "execution_count": 103,
   "metadata": {},
   "outputs": [
    {
     "data": {
      "image/png": "[encoded data removed]",
      "text/plain": [
       "<Figure size 1440x720 with 1 Axes>"
      ]
     },
     "metadata": {
      "needs_background": "light"
     },
     "output_type": "display_data"
    }
   ],
   "source": [
    "fig,axs=plt.subplots()\n",
    "fig.set_size_inches(20,10)\n",
    "sns.barplot(x='transmission',y='price', data=auto)\n",
    "plt.xticks(rotation=91)\n",
    "plt.show()"
   ]
  },
  {
   "cell_type": "code",
   "execution_count": 99,
   "metadata": {},
   "outputs": [
    {
     "data": {
      "text/plain": [
       "<AxesSubplot:title={'center':'Distribution of Manufacturer'}>"
      ]
     },
     "execution_count": 99,
     "metadata": {},
     "output_type": "execute_result"
    },
    {
     "data": {
      "image/png": "[encoded data removed]",
      "text/plain": [
       "<Figure size 1440x720 with 1 Axes>"
      ]
     },
     "metadata": {
      "needs_background": "light"
     },
     "output_type": "display_data"
    }
   ],
   "source": [
    "auto_copy['manufacturer'].value_counts().plot(kind='bar', figsize=(20,10), \n",
    "                                              fontsize=18, title='Distribution of Manufacturer')"
   ]
  },
  {
   "cell_type": "code",
   "execution_count": 102,
   "metadata": {},
   "outputs": [
    {
     "data": {
      "text/plain": [
       "<AxesSubplot:title={'center':'Distribution of Type of cars'}>"
      ]
     },
     "execution_count": 102,
     "metadata": {},
     "output_type": "execute_result"
    },
    {
     "data": {
      "image/png": "[encoded data removed]",
      "text/plain": [
       "<Figure size 1440x720 with 1 Axes>"
      ]
     },
     "metadata": {
      "needs_background": "light"
     },
     "output_type": "display_data"
    }
   ],
   "source": [
    "auto_copy['type'].value_counts().plot(kind='bar', figsize=(20,10), \n",
    "                                              fontsize=18, title='Distribution of Type of cars')"
   ]
  },
  {
   "cell_type": "code",
   "execution_count": 105,
   "metadata": {},
   "outputs": [
    {
     "data": {
      "text/plain": [
       "<AxesSubplot:title={'center':'Distribution of Transmission of cars'}>"
      ]
     },
     "execution_count": 105,
     "metadata": {},
     "output_type": "execute_result"
    },
    {
     "data": {
      "image/png": "[encoded data removed]",
      "text/plain": [
       "<Figure size 1440x720 with 1 Axes>"
      ]
     },
     "metadata": {
      "needs_background": "light"
     },
     "output_type": "display_data"
    }
   ],
   "source": [
    "auto_copy['transmission'].value_counts().plot(kind='bar', figsize=(20,10), \n",
    "                                              fontsize=18, title='Distribution of Transmission of cars')"
   ]
  },
  {
   "cell_type": "markdown",
   "metadata": {},
   "source": [
    "#### Understanding of data \n",
    "\n",
    "The data have 17 features/columns comprises of the data types object, int64, and float. Our goal is to construct the model using the features to predict the column \"price\". We will have to understand the driver of the column price from the remaining features. The data contains the numeric and categorical columns. "
   ]
  },
  {
   "cell_type": "code",
   "execution_count": 13,
   "metadata": {},
   "outputs": [
    {
     "data": {
      "text/html": [
       "<div>\n",
       "<style scoped>\n",
       "    .dataframe tbody tr th:only-of-type {\n",
       "        vertical-align: middle;\n",
       "    }\n",
       "\n",
       "    .dataframe tbody tr th {\n",
       "        vertical-align: top;\n",
       "    }\n",
       "\n",
       "    .dataframe thead th {\n",
       "        text-align: right;\n",
       "    }\n",
       "</style>\n",
       "<table border=\"1\" class=\"dataframe\">\n",
       "  <thead>\n",
       "    <tr style=\"text-align: right;\">\n",
       "      <th></th>\n",
       "      <th>id</th>\n",
       "      <th>region</th>\n",
       "      <th>price</th>\n",
       "      <th>year</th>\n",
       "      <th>manufacturer</th>\n",
       "      <th>model</th>\n",
       "      <th>condition</th>\n",
       "      <th>cylinders</th>\n",
       "      <th>fuel</th>\n",
       "      <th>odometer</th>\n",
       "      <th>title_status</th>\n",
       "      <th>transmission</th>\n",
       "      <th>VIN</th>\n",
       "      <th>drive</th>\n",
       "      <th>size</th>\n",
       "      <th>type</th>\n",
       "      <th>paint_color</th>\n",
       "      <th>state</th>\n",
       "      <th>age</th>\n",
       "    </tr>\n",
       "  </thead>\n",
       "  <tbody>\n",
       "    <tr>\n",
       "      <th>426875</th>\n",
       "      <td>7301591192</td>\n",
       "      <td>wyoming</td>\n",
       "      <td>23590</td>\n",
       "      <td>2019.0</td>\n",
       "      <td>nissan</td>\n",
       "      <td>maxima s sedan 4d</td>\n",
       "      <td>good</td>\n",
       "      <td>6 cylinders</td>\n",
       "      <td>gas</td>\n",
       "      <td>32226.0</td>\n",
       "      <td>clean</td>\n",
       "      <td>other</td>\n",
       "      <td>1N4AA6AV6KC367801</td>\n",
       "      <td>fwd</td>\n",
       "      <td>NaN</td>\n",
       "      <td>sedan</td>\n",
       "      <td>NaN</td>\n",
       "      <td>wy</td>\n",
       "      <td>3.0</td>\n",
       "    </tr>\n",
       "    <tr>\n",
       "      <th>426876</th>\n",
       "      <td>7301591187</td>\n",
       "      <td>wyoming</td>\n",
       "      <td>30590</td>\n",
       "      <td>2020.0</td>\n",
       "      <td>volvo</td>\n",
       "      <td>s60 t5 momentum sedan 4d</td>\n",
       "      <td>good</td>\n",
       "      <td>NaN</td>\n",
       "      <td>gas</td>\n",
       "      <td>12029.0</td>\n",
       "      <td>clean</td>\n",
       "      <td>other</td>\n",
       "      <td>7JR102FKXLG042696</td>\n",
       "      <td>fwd</td>\n",
       "      <td>NaN</td>\n",
       "      <td>sedan</td>\n",
       "      <td>red</td>\n",
       "      <td>wy</td>\n",
       "      <td>2.0</td>\n",
       "    </tr>\n",
       "    <tr>\n",
       "      <th>426877</th>\n",
       "      <td>7301591147</td>\n",
       "      <td>wyoming</td>\n",
       "      <td>34990</td>\n",
       "      <td>2020.0</td>\n",
       "      <td>cadillac</td>\n",
       "      <td>xt4 sport suv 4d</td>\n",
       "      <td>good</td>\n",
       "      <td>NaN</td>\n",
       "      <td>diesel</td>\n",
       "      <td>4174.0</td>\n",
       "      <td>clean</td>\n",
       "      <td>other</td>\n",
       "      <td>1GYFZFR46LF088296</td>\n",
       "      <td>NaN</td>\n",
       "      <td>NaN</td>\n",
       "      <td>hatchback</td>\n",
       "      <td>white</td>\n",
       "      <td>wy</td>\n",
       "      <td>2.0</td>\n",
       "    </tr>\n",
       "    <tr>\n",
       "      <th>426878</th>\n",
       "      <td>7301591140</td>\n",
       "      <td>wyoming</td>\n",
       "      <td>28990</td>\n",
       "      <td>2018.0</td>\n",
       "      <td>lexus</td>\n",
       "      <td>es 350 sedan 4d</td>\n",
       "      <td>good</td>\n",
       "      <td>6 cylinders</td>\n",
       "      <td>gas</td>\n",
       "      <td>30112.0</td>\n",
       "      <td>clean</td>\n",
       "      <td>other</td>\n",
       "      <td>58ABK1GG4JU103853</td>\n",
       "      <td>fwd</td>\n",
       "      <td>NaN</td>\n",
       "      <td>sedan</td>\n",
       "      <td>silver</td>\n",
       "      <td>wy</td>\n",
       "      <td>4.0</td>\n",
       "    </tr>\n",
       "    <tr>\n",
       "      <th>426879</th>\n",
       "      <td>7301591129</td>\n",
       "      <td>wyoming</td>\n",
       "      <td>30590</td>\n",
       "      <td>2019.0</td>\n",
       "      <td>bmw</td>\n",
       "      <td>4 series 430i gran coupe</td>\n",
       "      <td>good</td>\n",
       "      <td>NaN</td>\n",
       "      <td>gas</td>\n",
       "      <td>22716.0</td>\n",
       "      <td>clean</td>\n",
       "      <td>other</td>\n",
       "      <td>WBA4J1C58KBM14708</td>\n",
       "      <td>rwd</td>\n",
       "      <td>NaN</td>\n",
       "      <td>coupe</td>\n",
       "      <td>NaN</td>\n",
       "      <td>wy</td>\n",
       "      <td>3.0</td>\n",
       "    </tr>\n",
       "  </tbody>\n",
       "</table>\n",
       "</div>"
      ],
      "text/plain": [
       "                id   region  price    year manufacturer  \\\n",
       "426875  7301591192  wyoming  23590  2019.0       nissan   \n",
       "426876  7301591187  wyoming  30590  2020.0        volvo   \n",
       "426877  7301591147  wyoming  34990  2020.0     cadillac   \n",
       "426878  7301591140  wyoming  28990  2018.0        lexus   \n",
       "426879  7301591129  wyoming  30590  2019.0          bmw   \n",
       "\n",
       "                           model condition    cylinders    fuel  odometer  \\\n",
       "426875         maxima s sedan 4d      good  6 cylinders     gas   32226.0   \n",
       "426876  s60 t5 momentum sedan 4d      good          NaN     gas   12029.0   \n",
       "426877          xt4 sport suv 4d      good          NaN  diesel    4174.0   \n",
       "426878           es 350 sedan 4d      good  6 cylinders     gas   30112.0   \n",
       "426879  4 series 430i gran coupe      good          NaN     gas   22716.0   \n",
       "\n",
       "       title_status transmission                VIN drive size       type  \\\n",
       "426875        clean        other  1N4AA6AV6KC367801   fwd  NaN      sedan   \n",
       "426876        clean        other  7JR102FKXLG042696   fwd  NaN      sedan   \n",
       "426877        clean        other  1GYFZFR46LF088296   NaN  NaN  hatchback   \n",
       "426878        clean        other  58ABK1GG4JU103853   fwd  NaN      sedan   \n",
       "426879        clean        other  WBA4J1C58KBM14708   rwd  NaN      coupe   \n",
       "\n",
       "       paint_color state  age  \n",
       "426875         NaN    wy  3.0  \n",
       "426876         red    wy  2.0  \n",
       "426877       white    wy  2.0  \n",
       "426878      silver    wy  4.0  \n",
       "426879         NaN    wy  3.0  "
      ]
     },
     "execution_count": 13,
     "metadata": {},
     "output_type": "execute_result"
    }
   ],
   "source": [
    "# adding another column named \"age\" to get the age of the car. ideally, older the car, cheaper it would be. \n",
    "auto_copy['age'] = 2022.0 - auto_copy['year']\n",
    "auto_copy.tail()"
   ]
  },
  {
   "cell_type": "code",
   "execution_count": 14,
   "metadata": {},
   "outputs": [
    {
     "name": "stdout",
     "output_type": "stream",
     "text": [
      "numeric feature  ----- \n",
      " Index(['year', 'odometer', 'age'], dtype='object')\n",
      "\n",
      " categorical feature  ----- \n",
      " Index(['region', 'manufacturer', 'model', 'condition', 'cylinders', 'fuel',\n",
      "       'title_status', 'transmission', 'drive', 'size', 'type', 'paint_color'],\n",
      "      dtype='object')\n",
      "\n",
      " other features  ----- \n",
      " Index(['VIN', 'id', 'state'], dtype='object')\n"
     ]
    }
   ],
   "source": [
    "# lets seperate the features based off data type\n",
    "\n",
    "numeric_features = auto_copy.select_dtypes('number').columns.drop(['id', 'price'])\n",
    "categorical_features = auto_copy.select_dtypes('object').columns.drop(['VIN', 'state'])\n",
    "other_features = auto_copy[['VIN', 'id', 'state']].columns # we will plan to drop these two columns in the subsequent steps. \n",
    "\n",
    "print('numeric feature  ----- \\n', numeric_features)\n",
    "print('\\n categorical feature  ----- \\n', categorical_features)\n",
    "print('\\n other features  ----- \\n',other_features)"
   ]
  },
  {
   "cell_type": "code",
   "execution_count": 15,
   "metadata": {},
   "outputs": [
    {
     "name": "stdout",
     "output_type": "stream",
     "text": [
      "Count of the missing values in the data \n",
      " id                   0\n",
      "region               0\n",
      "price                0\n",
      "year              1205\n",
      "manufacturer     17646\n",
      "model             5277\n",
      "condition       174104\n",
      "cylinders       177678\n",
      "fuel              3013\n",
      "odometer          4400\n",
      "title_status      8242\n",
      "transmission      2556\n",
      "VIN             161042\n",
      "drive           130567\n",
      "size            306361\n",
      "type             92858\n",
      "paint_color     130203\n",
      "state                0\n",
      "age               1205\n",
      "dtype: int64\n"
     ]
    },
    {
     "data": {
      "text/plain": [
       "<AxesSubplot:>"
      ]
     },
     "execution_count": 15,
     "metadata": {},
     "output_type": "execute_result"
    },
    {
     "data": {
      "image/png": "[encoded data removed]",
      "text/plain": [
       "<Figure size 1800x720 with 3 Axes>"
      ]
     },
     "metadata": {
      "needs_background": "light"
     },
     "output_type": "display_data"
    }
   ],
   "source": [
    "print('Count of the missing values in the data \\n', auto_copy.isna().sum())\n",
    "msno.bar(auto_copy) # I had to install msno before using it here. pip install msno"
   ]
  },
  {
   "cell_type": "markdown",
   "metadata": {},
   "source": [
    "<b> The plot and counts above yield that huge data is missing in the features - condition, cylinders, VIN, drive, size, paint_color, and type. In the subsequent steps, we will have to fill in the missing value.</b>"
   ]
  },
  {
   "cell_type": "code",
   "execution_count": 16,
   "metadata": {},
   "outputs": [
    {
     "data": {
      "text/html": [
       "<div>\n",
       "<style scoped>\n",
       "    .dataframe tbody tr th:only-of-type {\n",
       "        vertical-align: middle;\n",
       "    }\n",
       "\n",
       "    .dataframe tbody tr th {\n",
       "        vertical-align: top;\n",
       "    }\n",
       "\n",
       "    .dataframe thead th {\n",
       "        text-align: right;\n",
       "    }\n",
       "</style>\n",
       "<table border=\"1\" class=\"dataframe\">\n",
       "  <thead>\n",
       "    <tr style=\"text-align: right;\">\n",
       "      <th></th>\n",
       "      <th>id</th>\n",
       "      <th>price</th>\n",
       "      <th>year</th>\n",
       "      <th>odometer</th>\n",
       "      <th>age</th>\n",
       "    </tr>\n",
       "  </thead>\n",
       "  <tbody>\n",
       "    <tr>\n",
       "      <th>id</th>\n",
       "      <td>1.000000</td>\n",
       "      <td>-0.002779</td>\n",
       "      <td>-0.059040</td>\n",
       "      <td>0.010721</td>\n",
       "      <td>0.059040</td>\n",
       "    </tr>\n",
       "    <tr>\n",
       "      <th>price</th>\n",
       "      <td>-0.002779</td>\n",
       "      <td>1.000000</td>\n",
       "      <td>-0.004925</td>\n",
       "      <td>0.010032</td>\n",
       "      <td>0.004925</td>\n",
       "    </tr>\n",
       "    <tr>\n",
       "      <th>year</th>\n",
       "      <td>-0.059040</td>\n",
       "      <td>-0.004925</td>\n",
       "      <td>1.000000</td>\n",
       "      <td>-0.157215</td>\n",
       "      <td>-1.000000</td>\n",
       "    </tr>\n",
       "    <tr>\n",
       "      <th>odometer</th>\n",
       "      <td>0.010721</td>\n",
       "      <td>0.010032</td>\n",
       "      <td>-0.157215</td>\n",
       "      <td>1.000000</td>\n",
       "      <td>0.157215</td>\n",
       "    </tr>\n",
       "    <tr>\n",
       "      <th>age</th>\n",
       "      <td>0.059040</td>\n",
       "      <td>0.004925</td>\n",
       "      <td>-1.000000</td>\n",
       "      <td>0.157215</td>\n",
       "      <td>1.000000</td>\n",
       "    </tr>\n",
       "  </tbody>\n",
       "</table>\n",
       "</div>"
      ],
      "text/plain": [
       "                id     price      year  odometer       age\n",
       "id        1.000000 -0.002779 -0.059040  0.010721  0.059040\n",
       "price    -0.002779  1.000000 -0.004925  0.010032  0.004925\n",
       "year     -0.059040 -0.004925  1.000000 -0.157215 -1.000000\n",
       "odometer  0.010721  0.010032 -0.157215  1.000000  0.157215\n",
       "age       0.059040  0.004925 -1.000000  0.157215  1.000000"
      ]
     },
     "execution_count": 16,
     "metadata": {},
     "output_type": "execute_result"
    }
   ],
   "source": [
    "auto_copy.corr()"
   ]
  },
  {
   "cell_type": "markdown",
   "metadata": {},
   "source": [
    "<b> As evident, the correlation matrix doesn't yeild noteworthy. We will have to clean the data before recheck the corr after cleaning the data. </b>"
   ]
  },
  {
   "cell_type": "markdown",
   "metadata": {},
   "source": [
    "### Data Preparation\n",
    "\n",
    "After our initial exploration and fine tuning of the business understanding, it is time to construct our final dataset prior to modeling.  Here, we want to make sure to handle any integrity issues and cleaning, the engineering of new features, any transformations that we believe should happen (scaling, logarithms, normalization, etc.), and general preparation for modeling with `sklearn`. "
   ]
  },
  {
   "cell_type": "markdown",
   "metadata": {},
   "source": [
    "### Preprocessing of categorical column\n",
    "\n",
    "Let's start by preprocessing the categorical columns. "
   ]
  },
  {
   "cell_type": "code",
   "execution_count": 17,
   "metadata": {},
   "outputs": [
    {
     "name": "stdout",
     "output_type": "stream",
     "text": [
      "good         121456\n",
      "excellent    101467\n",
      "like new      21178\n",
      "fair           6769\n",
      "new            1305\n",
      "salvage         601\n",
      "Name: condition, dtype: int64\n",
      "\n",
      " ************ \n",
      "\n",
      "gas         356209\n",
      "other        30728\n",
      "diesel       30062\n",
      "hybrid        5170\n",
      "electric      1698\n",
      "Name: fuel, dtype: int64\n",
      "\n",
      " ************ \n",
      "\n",
      "clean         405117\n",
      "rebuilt         7219\n",
      "salvage         3868\n",
      "lien            1422\n",
      "missing          814\n",
      "parts only       198\n",
      "Name: title_status, dtype: int64\n",
      "\n",
      " ************ \n",
      "\n",
      "4wd    131904\n",
      "fwd    105517\n",
      "rwd     58892\n",
      "Name: drive, dtype: int64\n"
     ]
    }
   ],
   "source": [
    "print( auto_copy['condition'].value_counts())\n",
    "print('\\n ************ \\n')\n",
    "print(auto_copy['fuel'].value_counts())\n",
    "print('\\n ************ \\n')\n",
    "print(auto_copy['title_status'].value_counts())\n",
    "print('\\n ************ \\n')\n",
    "print(auto_copy['drive'].value_counts())"
   ]
  },
  {
   "cell_type": "markdown",
   "metadata": {},
   "source": [
    "#### Fill in the missing value of the numeric features\n",
    "\n",
    "We are going to use SimpleImpute to fill out the missing values. "
   ]
  },
  {
   "cell_type": "code",
   "execution_count": 21,
   "metadata": {},
   "outputs": [],
   "source": [
    "# Preprocess numeric features \n",
    "\n",
    "# Step1 \n",
    "auto_numeric = auto_copy[numeric_features] # prepare the subset of dataframe with only numeric columns\n",
    "# Step 2\n",
    "impute = SimpleImputer(strategy=\"median\") # Instantiate the Simple Imputer with \"median\"\n",
    "#step 3\n",
    "auto_numeric_impute = impute.fit_transform(auto_numeric) # Fit Transform the subset of dataframe prepared in step 1\n",
    "# step 4\n",
    "auto_copy[numeric_features] = auto_numeric_impute # Update the numeric features of Toy data (auto_copy) with the Impute output"
   ]
  },
  {
   "cell_type": "code",
   "execution_count": 22,
   "metadata": {},
   "outputs": [
    {
     "data": {
      "text/plain": [
       "year        0\n",
       "odometer    0\n",
       "age         0\n",
       "dtype: int64"
      ]
     },
     "execution_count": 22,
     "metadata": {},
     "output_type": "execute_result"
    }
   ],
   "source": [
    "#checking the number of missing value post Imputing \n",
    "auto_copy.isna().sum()[numeric_features]"
   ]
  },
  {
   "cell_type": "markdown",
   "metadata": {},
   "source": [
    "#### Fill in the missing value of the categorical features\n",
    "\n",
    "Filling in the missing values in the categorical data will be tricky as I need a transformer that can treat the non-numeric columns. To fill in the missing values, I will first transform the column to the numeric (maybe using OneHot encoding, LabelEncoder, OrdinalEncoder), then apply Imputing on the features. "
   ]
  },
  {
   "cell_type": "code",
   "execution_count": 23,
   "metadata": {},
   "outputs": [
    {
     "data": {
      "text/plain": [
       "region               0\n",
       "manufacturer     17646\n",
       "model             5277\n",
       "condition       174104\n",
       "cylinders       177678\n",
       "fuel              3013\n",
       "title_status      8242\n",
       "transmission      2556\n",
       "drive           130567\n",
       "size            306361\n",
       "type             92858\n",
       "paint_color     130203\n",
       "dtype: int64"
      ]
     },
     "execution_count": 23,
     "metadata": {},
     "output_type": "execute_result"
    }
   ],
   "source": [
    "auto_copy.isna().sum()[categorical_features]"
   ]
  },
  {
   "cell_type": "markdown",
   "metadata": {},
   "source": [
    "The transformation of the non-numeric column will fail with the error if you have empty/missing value. Therefore, during the transformation we will only keep the non-empty data. "
   ]
  },
  {
   "cell_type": "code",
   "execution_count": 24,
   "metadata": {},
   "outputs": [],
   "source": [
    "# Create a function to convert the features to numeric columns. \n",
    "check_imputer=auto_copy.copy()\n",
    "check_imputer=check_imputer.drop(columns=['id'])\n",
    "\n",
    "#object of LabelEncoder\n",
    "encoder=LabelEncoder()\n",
    "\n",
    "#function to label the categorical columns ignoring null values \n",
    "def encode(data):\n",
    "    #retains only non-null values\n",
    "    nonulls = np.array(data.dropna())\n",
    "    #reshapes the data for encoding\n",
    "    impute_reshape = nonulls.reshape(-1,1)\n",
    "    #encode data\n",
    "    impute_ordinal = encoder.fit_transform(impute_reshape)\n",
    "    #Assign back encoded values to non-null values\n",
    "    data.loc[data.notnull()] = np.squeeze(impute_ordinal)\n",
    "    return data\n"
   ]
  },
  {
   "cell_type": "code",
   "execution_count": 25,
   "metadata": {},
   "outputs": [],
   "source": [
    "data_cat=auto_copy[categorical_features]\n",
    "encoder=LabelEncoder()\n",
    "\n",
    "#create a for loop to iterate through each column in the data to fill in the null value\n",
    "for columns in categorical_features:\n",
    "    encode(data_cat[columns])\n",
    "    imputer = IterativeImputer()\n",
    "    impute_data=imputer.fit_transform(data_cat[columns].values.reshape(-1, 1))\n",
    "    impute_data=impute_data.astype('int64')\n",
    "    impute_data = pd.DataFrame(impute_data)\n",
    "    impute_data =encoder.inverse_transform(impute_data.values.reshape(-1, 1))\n",
    "    data_cat[columns]=impute_data\n",
    "auto_copy[categorical_features]=data_cat  "
   ]
  },
  {
   "cell_type": "code",
   "execution_count": 26,
   "metadata": {},
   "outputs": [
    {
     "data": {
      "text/html": [
       "<div>\n",
       "<style scoped>\n",
       "    .dataframe tbody tr th:only-of-type {\n",
       "        vertical-align: middle;\n",
       "    }\n",
       "\n",
       "    .dataframe tbody tr th {\n",
       "        vertical-align: top;\n",
       "    }\n",
       "\n",
       "    .dataframe thead th {\n",
       "        text-align: right;\n",
       "    }\n",
       "</style>\n",
       "<table border=\"1\" class=\"dataframe\">\n",
       "  <thead>\n",
       "    <tr style=\"text-align: right;\">\n",
       "      <th></th>\n",
       "      <th>region</th>\n",
       "      <th>price</th>\n",
       "      <th>year</th>\n",
       "      <th>manufacturer</th>\n",
       "      <th>model</th>\n",
       "      <th>condition</th>\n",
       "      <th>cylinders</th>\n",
       "      <th>fuel</th>\n",
       "      <th>odometer</th>\n",
       "      <th>title_status</th>\n",
       "      <th>transmission</th>\n",
       "      <th>drive</th>\n",
       "      <th>size</th>\n",
       "      <th>type</th>\n",
       "      <th>paint_color</th>\n",
       "      <th>age</th>\n",
       "    </tr>\n",
       "  </thead>\n",
       "  <tbody>\n",
       "    <tr>\n",
       "      <th>0</th>\n",
       "      <td>prescott</td>\n",
       "      <td>6000</td>\n",
       "      <td>2013.0</td>\n",
       "      <td>infiniti</td>\n",
       "      <td>g series</td>\n",
       "      <td>fair</td>\n",
       "      <td>5 cylinders</td>\n",
       "      <td>gas</td>\n",
       "      <td>85548.0</td>\n",
       "      <td>clean</td>\n",
       "      <td>automatic</td>\n",
       "      <td>4wd</td>\n",
       "      <td>full-size</td>\n",
       "      <td>offroad</td>\n",
       "      <td>grey</td>\n",
       "      <td>9.0</td>\n",
       "    </tr>\n",
       "    <tr>\n",
       "      <th>1</th>\n",
       "      <td>fayetteville</td>\n",
       "      <td>11900</td>\n",
       "      <td>2013.0</td>\n",
       "      <td>infiniti</td>\n",
       "      <td>g series</td>\n",
       "      <td>fair</td>\n",
       "      <td>5 cylinders</td>\n",
       "      <td>gas</td>\n",
       "      <td>85548.0</td>\n",
       "      <td>clean</td>\n",
       "      <td>automatic</td>\n",
       "      <td>4wd</td>\n",
       "      <td>full-size</td>\n",
       "      <td>offroad</td>\n",
       "      <td>grey</td>\n",
       "      <td>9.0</td>\n",
       "    </tr>\n",
       "  </tbody>\n",
       "</table>\n",
       "</div>"
      ],
      "text/plain": [
       "         region  price    year manufacturer     model condition    cylinders  \\\n",
       "0      prescott   6000  2013.0     infiniti  g series      fair  5 cylinders   \n",
       "1  fayetteville  11900  2013.0     infiniti  g series      fair  5 cylinders   \n",
       "\n",
       "  fuel  odometer title_status transmission drive       size     type  \\\n",
       "0  gas   85548.0        clean    automatic   4wd  full-size  offroad   \n",
       "1  gas   85548.0        clean    automatic   4wd  full-size  offroad   \n",
       "\n",
       "  paint_color  age  \n",
       "0        grey  9.0  \n",
       "1        grey  9.0  "
      ]
     },
     "execution_count": 26,
     "metadata": {},
     "output_type": "execute_result"
    }
   ],
   "source": [
    "# create another copy of the data to apply the encoding\n",
    "\n",
    "auto_copy_preprocessed = auto_copy.drop(columns=other_features)\n",
    "auto_copy_preprocessed.head(2)"
   ]
  },
  {
   "cell_type": "code",
   "execution_count": 27,
   "metadata": {},
   "outputs": [],
   "source": [
    "# Create a loop to iterate through each column in the data to apply Label Encoding aka changing it to numeric datatype\n",
    "\n",
    "for i in range(len(categorical_features)):\n",
    "    encode(auto_copy_preprocessed[categorical_features[i]])"
   ]
  },
  {
   "cell_type": "code",
   "execution_count": 28,
   "metadata": {},
   "outputs": [
    {
     "data": {
      "text/html": [
       "<div>\n",
       "<style scoped>\n",
       "    .dataframe tbody tr th:only-of-type {\n",
       "        vertical-align: middle;\n",
       "    }\n",
       "\n",
       "    .dataframe tbody tr th {\n",
       "        vertical-align: top;\n",
       "    }\n",
       "\n",
       "    .dataframe thead th {\n",
       "        text-align: right;\n",
       "    }\n",
       "</style>\n",
       "<table border=\"1\" class=\"dataframe\">\n",
       "  <thead>\n",
       "    <tr style=\"text-align: right;\">\n",
       "      <th></th>\n",
       "      <th>region</th>\n",
       "      <th>price</th>\n",
       "      <th>year</th>\n",
       "      <th>manufacturer</th>\n",
       "      <th>model</th>\n",
       "      <th>condition</th>\n",
       "      <th>cylinders</th>\n",
       "      <th>fuel</th>\n",
       "      <th>odometer</th>\n",
       "      <th>title_status</th>\n",
       "      <th>transmission</th>\n",
       "      <th>drive</th>\n",
       "      <th>size</th>\n",
       "      <th>type</th>\n",
       "      <th>paint_color</th>\n",
       "      <th>age</th>\n",
       "    </tr>\n",
       "  </thead>\n",
       "  <tbody>\n",
       "    <tr>\n",
       "      <th>0</th>\n",
       "      <td>277</td>\n",
       "      <td>6000</td>\n",
       "      <td>2013.0</td>\n",
       "      <td>18</td>\n",
       "      <td>16738</td>\n",
       "      <td>1</td>\n",
       "      <td>4</td>\n",
       "      <td>2</td>\n",
       "      <td>85548.0</td>\n",
       "      <td>0</td>\n",
       "      <td>0</td>\n",
       "      <td>0</td>\n",
       "      <td>1</td>\n",
       "      <td>6</td>\n",
       "      <td>5</td>\n",
       "      <td>9.0</td>\n",
       "    </tr>\n",
       "    <tr>\n",
       "      <th>1</th>\n",
       "      <td>105</td>\n",
       "      <td>11900</td>\n",
       "      <td>2013.0</td>\n",
       "      <td>18</td>\n",
       "      <td>16738</td>\n",
       "      <td>1</td>\n",
       "      <td>4</td>\n",
       "      <td>2</td>\n",
       "      <td>85548.0</td>\n",
       "      <td>0</td>\n",
       "      <td>0</td>\n",
       "      <td>0</td>\n",
       "      <td>1</td>\n",
       "      <td>6</td>\n",
       "      <td>5</td>\n",
       "      <td>9.0</td>\n",
       "    </tr>\n",
       "    <tr>\n",
       "      <th>2</th>\n",
       "      <td>111</td>\n",
       "      <td>21000</td>\n",
       "      <td>2013.0</td>\n",
       "      <td>18</td>\n",
       "      <td>16738</td>\n",
       "      <td>1</td>\n",
       "      <td>4</td>\n",
       "      <td>2</td>\n",
       "      <td>85548.0</td>\n",
       "      <td>0</td>\n",
       "      <td>0</td>\n",
       "      <td>0</td>\n",
       "      <td>1</td>\n",
       "      <td>6</td>\n",
       "      <td>5</td>\n",
       "      <td>9.0</td>\n",
       "    </tr>\n",
       "    <tr>\n",
       "      <th>3</th>\n",
       "      <td>396</td>\n",
       "      <td>1500</td>\n",
       "      <td>2013.0</td>\n",
       "      <td>18</td>\n",
       "      <td>16738</td>\n",
       "      <td>1</td>\n",
       "      <td>4</td>\n",
       "      <td>2</td>\n",
       "      <td>85548.0</td>\n",
       "      <td>0</td>\n",
       "      <td>0</td>\n",
       "      <td>0</td>\n",
       "      <td>1</td>\n",
       "      <td>6</td>\n",
       "      <td>5</td>\n",
       "      <td>9.0</td>\n",
       "    </tr>\n",
       "    <tr>\n",
       "      <th>4</th>\n",
       "      <td>131</td>\n",
       "      <td>4900</td>\n",
       "      <td>2013.0</td>\n",
       "      <td>18</td>\n",
       "      <td>16738</td>\n",
       "      <td>1</td>\n",
       "      <td>4</td>\n",
       "      <td>2</td>\n",
       "      <td>85548.0</td>\n",
       "      <td>0</td>\n",
       "      <td>0</td>\n",
       "      <td>0</td>\n",
       "      <td>1</td>\n",
       "      <td>6</td>\n",
       "      <td>5</td>\n",
       "      <td>9.0</td>\n",
       "    </tr>\n",
       "  </tbody>\n",
       "</table>\n",
       "</div>"
      ],
      "text/plain": [
       "   region  price    year  manufacturer  model  condition  cylinders  fuel  \\\n",
       "0     277   6000  2013.0            18  16738          1          4     2   \n",
       "1     105  11900  2013.0            18  16738          1          4     2   \n",
       "2     111  21000  2013.0            18  16738          1          4     2   \n",
       "3     396   1500  2013.0            18  16738          1          4     2   \n",
       "4     131   4900  2013.0            18  16738          1          4     2   \n",
       "\n",
       "   odometer  title_status  transmission  drive  size  type  paint_color  age  \n",
       "0   85548.0             0             0      0     1     6            5  9.0  \n",
       "1   85548.0             0             0      0     1     6            5  9.0  \n",
       "2   85548.0             0             0      0     1     6            5  9.0  \n",
       "3   85548.0             0             0      0     1     6            5  9.0  \n",
       "4   85548.0             0             0      0     1     6            5  9.0  "
      ]
     },
     "execution_count": 28,
     "metadata": {},
     "output_type": "execute_result"
    }
   ],
   "source": [
    "# all the features are converted to the numeric and null are replaced with the algorithm. \n",
    "auto_copy_preprocessed.head()"
   ]
  },
  {
   "cell_type": "code",
   "execution_count": 29,
   "metadata": {},
   "outputs": [
    {
     "data": {
      "text/plain": [
       "<AxesSubplot:>"
      ]
     },
     "execution_count": 29,
     "metadata": {},
     "output_type": "execute_result"
    },
    {
     "data": {
      "image/png": "[encoded data removed]",
      "text/plain": [
       "<Figure size 432x288 with 2 Axes>"
      ]
     },
     "metadata": {
      "needs_background": "light"
     },
     "output_type": "display_data"
    }
   ],
   "source": [
    "corr = auto_copy_preprocessed.corr()\n",
    "\n",
    "sns.heatmap(corr)"
   ]
  },
  {
   "cell_type": "code",
   "execution_count": 30,
   "metadata": {},
   "outputs": [
    {
     "data": {
      "text/html": [
       "<div>\n",
       "<style scoped>\n",
       "    .dataframe tbody tr th:only-of-type {\n",
       "        vertical-align: middle;\n",
       "    }\n",
       "\n",
       "    .dataframe tbody tr th {\n",
       "        vertical-align: top;\n",
       "    }\n",
       "\n",
       "    .dataframe thead th {\n",
       "        text-align: right;\n",
       "    }\n",
       "</style>\n",
       "<table border=\"1\" class=\"dataframe\">\n",
       "  <thead>\n",
       "    <tr style=\"text-align: right;\">\n",
       "      <th></th>\n",
       "      <th>region</th>\n",
       "      <th>price</th>\n",
       "      <th>year</th>\n",
       "      <th>manufacturer</th>\n",
       "      <th>model</th>\n",
       "      <th>condition</th>\n",
       "      <th>cylinders</th>\n",
       "      <th>fuel</th>\n",
       "      <th>odometer</th>\n",
       "      <th>title_status</th>\n",
       "      <th>transmission</th>\n",
       "      <th>drive</th>\n",
       "      <th>size</th>\n",
       "      <th>type</th>\n",
       "      <th>paint_color</th>\n",
       "      <th>age</th>\n",
       "    </tr>\n",
       "  </thead>\n",
       "  <tbody>\n",
       "    <tr>\n",
       "      <th>region</th>\n",
       "      <td>1.000000</td>\n",
       "      <td>-0.001412</td>\n",
       "      <td>-0.003604</td>\n",
       "      <td>0.001494</td>\n",
       "      <td>0.000215</td>\n",
       "      <td>-0.010965</td>\n",
       "      <td>-0.006795</td>\n",
       "      <td>-0.004425</td>\n",
       "      <td>-0.001244</td>\n",
       "      <td>-0.007796</td>\n",
       "      <td>-0.015237</td>\n",
       "      <td>0.012725</td>\n",
       "      <td>-0.006994</td>\n",
       "      <td>0.003554</td>\n",
       "      <td>-0.000149</td>\n",
       "      <td>0.003604</td>\n",
       "    </tr>\n",
       "    <tr>\n",
       "      <th>price</th>\n",
       "      <td>-0.001412</td>\n",
       "      <td>1.000000</td>\n",
       "      <td>-0.004926</td>\n",
       "      <td>0.002516</td>\n",
       "      <td>-0.000625</td>\n",
       "      <td>-0.001064</td>\n",
       "      <td>0.002443</td>\n",
       "      <td>-0.000836</td>\n",
       "      <td>0.010035</td>\n",
       "      <td>-0.000870</td>\n",
       "      <td>-0.000684</td>\n",
       "      <td>-0.002752</td>\n",
       "      <td>0.001110</td>\n",
       "      <td>0.000148</td>\n",
       "      <td>-0.000022</td>\n",
       "      <td>0.004926</td>\n",
       "    </tr>\n",
       "    <tr>\n",
       "      <th>year</th>\n",
       "      <td>-0.003604</td>\n",
       "      <td>-0.004926</td>\n",
       "      <td>1.000000</td>\n",
       "      <td>0.030067</td>\n",
       "      <td>0.053669</td>\n",
       "      <td>0.055063</td>\n",
       "      <td>-0.131864</td>\n",
       "      <td>0.090488</td>\n",
       "      <td>-0.156774</td>\n",
       "      <td>-0.020892</td>\n",
       "      <td>0.126389</td>\n",
       "      <td>-0.122606</td>\n",
       "      <td>-0.026336</td>\n",
       "      <td>0.020349</td>\n",
       "      <td>0.013028</td>\n",
       "      <td>-1.000000</td>\n",
       "    </tr>\n",
       "    <tr>\n",
       "      <th>manufacturer</th>\n",
       "      <td>0.001494</td>\n",
       "      <td>0.002516</td>\n",
       "      <td>0.030067</td>\n",
       "      <td>1.000000</td>\n",
       "      <td>-0.022137</td>\n",
       "      <td>-0.020637</td>\n",
       "      <td>-0.145027</td>\n",
       "      <td>-0.023986</td>\n",
       "      <td>0.001079</td>\n",
       "      <td>0.014235</td>\n",
       "      <td>0.001612</td>\n",
       "      <td>-0.049140</td>\n",
       "      <td>0.005852</td>\n",
       "      <td>0.043559</td>\n",
       "      <td>0.007087</td>\n",
       "      <td>-0.030067</td>\n",
       "    </tr>\n",
       "    <tr>\n",
       "      <th>model</th>\n",
       "      <td>0.000215</td>\n",
       "      <td>-0.000625</td>\n",
       "      <td>0.053669</td>\n",
       "      <td>-0.022137</td>\n",
       "      <td>1.000000</td>\n",
       "      <td>0.007607</td>\n",
       "      <td>0.049330</td>\n",
       "      <td>0.072290</td>\n",
       "      <td>-0.008011</td>\n",
       "      <td>-0.010537</td>\n",
       "      <td>0.011948</td>\n",
       "      <td>-0.095739</td>\n",
       "      <td>0.000932</td>\n",
       "      <td>-0.098624</td>\n",
       "      <td>0.011102</td>\n",
       "      <td>-0.053669</td>\n",
       "    </tr>\n",
       "    <tr>\n",
       "      <th>condition</th>\n",
       "      <td>-0.010965</td>\n",
       "      <td>-0.001064</td>\n",
       "      <td>0.055063</td>\n",
       "      <td>-0.020637</td>\n",
       "      <td>0.007607</td>\n",
       "      <td>1.000000</td>\n",
       "      <td>0.057547</td>\n",
       "      <td>0.131658</td>\n",
       "      <td>-0.033387</td>\n",
       "      <td>0.009626</td>\n",
       "      <td>0.337125</td>\n",
       "      <td>0.051423</td>\n",
       "      <td>-0.017365</td>\n",
       "      <td>0.043240</td>\n",
       "      <td>0.003569</td>\n",
       "      <td>-0.055063</td>\n",
       "    </tr>\n",
       "    <tr>\n",
       "      <th>cylinders</th>\n",
       "      <td>-0.006795</td>\n",
       "      <td>0.002443</td>\n",
       "      <td>-0.131864</td>\n",
       "      <td>-0.145027</td>\n",
       "      <td>0.049330</td>\n",
       "      <td>0.057547</td>\n",
       "      <td>1.000000</td>\n",
       "      <td>-0.096131</td>\n",
       "      <td>0.026160</td>\n",
       "      <td>-0.033212</td>\n",
       "      <td>0.037850</td>\n",
       "      <td>0.036665</td>\n",
       "      <td>0.010368</td>\n",
       "      <td>0.030744</td>\n",
       "      <td>0.032928</td>\n",
       "      <td>0.131864</td>\n",
       "    </tr>\n",
       "    <tr>\n",
       "      <th>fuel</th>\n",
       "      <td>-0.004425</td>\n",
       "      <td>-0.000836</td>\n",
       "      <td>0.090488</td>\n",
       "      <td>-0.023986</td>\n",
       "      <td>0.072290</td>\n",
       "      <td>0.131658</td>\n",
       "      <td>-0.096131</td>\n",
       "      <td>1.000000</td>\n",
       "      <td>-0.067363</td>\n",
       "      <td>-0.009699</td>\n",
       "      <td>0.260694</td>\n",
       "      <td>0.031878</td>\n",
       "      <td>-0.015137</td>\n",
       "      <td>-0.076626</td>\n",
       "      <td>-0.045042</td>\n",
       "      <td>-0.090488</td>\n",
       "    </tr>\n",
       "    <tr>\n",
       "      <th>odometer</th>\n",
       "      <td>-0.001244</td>\n",
       "      <td>0.010035</td>\n",
       "      <td>-0.156774</td>\n",
       "      <td>0.001079</td>\n",
       "      <td>-0.008011</td>\n",
       "      <td>-0.033387</td>\n",
       "      <td>0.026160</td>\n",
       "      <td>-0.067363</td>\n",
       "      <td>1.000000</td>\n",
       "      <td>0.010062</td>\n",
       "      <td>-0.099753</td>\n",
       "      <td>-0.011849</td>\n",
       "      <td>0.011517</td>\n",
       "      <td>0.004529</td>\n",
       "      <td>0.002706</td>\n",
       "      <td>0.156774</td>\n",
       "    </tr>\n",
       "    <tr>\n",
       "      <th>title_status</th>\n",
       "      <td>-0.007796</td>\n",
       "      <td>-0.000870</td>\n",
       "      <td>-0.020892</td>\n",
       "      <td>0.014235</td>\n",
       "      <td>-0.010537</td>\n",
       "      <td>0.009626</td>\n",
       "      <td>-0.033212</td>\n",
       "      <td>-0.009699</td>\n",
       "      <td>0.010062</td>\n",
       "      <td>1.000000</td>\n",
       "      <td>-0.051961</td>\n",
       "      <td>0.007529</td>\n",
       "      <td>0.012548</td>\n",
       "      <td>-0.003706</td>\n",
       "      <td>-0.008342</td>\n",
       "      <td>0.020892</td>\n",
       "    </tr>\n",
       "    <tr>\n",
       "      <th>transmission</th>\n",
       "      <td>-0.015237</td>\n",
       "      <td>-0.000684</td>\n",
       "      <td>0.126389</td>\n",
       "      <td>0.001612</td>\n",
       "      <td>0.011948</td>\n",
       "      <td>0.337125</td>\n",
       "      <td>0.037850</td>\n",
       "      <td>0.260694</td>\n",
       "      <td>-0.099753</td>\n",
       "      <td>-0.051961</td>\n",
       "      <td>1.000000</td>\n",
       "      <td>0.044113</td>\n",
       "      <td>-0.060702</td>\n",
       "      <td>0.033253</td>\n",
       "      <td>-0.000712</td>\n",
       "      <td>-0.126389</td>\n",
       "    </tr>\n",
       "    <tr>\n",
       "      <th>drive</th>\n",
       "      <td>0.012725</td>\n",
       "      <td>-0.002752</td>\n",
       "      <td>-0.122606</td>\n",
       "      <td>-0.049140</td>\n",
       "      <td>-0.095739</td>\n",
       "      <td>0.051423</td>\n",
       "      <td>0.036665</td>\n",
       "      <td>0.031878</td>\n",
       "      <td>-0.011849</td>\n",
       "      <td>0.007529</td>\n",
       "      <td>0.044113</td>\n",
       "      <td>1.000000</td>\n",
       "      <td>0.043882</td>\n",
       "      <td>0.090268</td>\n",
       "      <td>0.060690</td>\n",
       "      <td>0.122606</td>\n",
       "    </tr>\n",
       "    <tr>\n",
       "      <th>size</th>\n",
       "      <td>-0.006994</td>\n",
       "      <td>0.001110</td>\n",
       "      <td>-0.026336</td>\n",
       "      <td>0.005852</td>\n",
       "      <td>0.000932</td>\n",
       "      <td>-0.017365</td>\n",
       "      <td>0.010368</td>\n",
       "      <td>-0.015137</td>\n",
       "      <td>0.011517</td>\n",
       "      <td>0.012548</td>\n",
       "      <td>-0.060702</td>\n",
       "      <td>0.043882</td>\n",
       "      <td>1.000000</td>\n",
       "      <td>-0.074147</td>\n",
       "      <td>0.002492</td>\n",
       "      <td>0.026336</td>\n",
       "    </tr>\n",
       "    <tr>\n",
       "      <th>type</th>\n",
       "      <td>0.003554</td>\n",
       "      <td>0.000148</td>\n",
       "      <td>0.020349</td>\n",
       "      <td>0.043559</td>\n",
       "      <td>-0.098624</td>\n",
       "      <td>0.043240</td>\n",
       "      <td>0.030744</td>\n",
       "      <td>-0.076626</td>\n",
       "      <td>0.004529</td>\n",
       "      <td>-0.003706</td>\n",
       "      <td>0.033253</td>\n",
       "      <td>0.090268</td>\n",
       "      <td>-0.074147</td>\n",
       "      <td>1.000000</td>\n",
       "      <td>0.055215</td>\n",
       "      <td>-0.020349</td>\n",
       "    </tr>\n",
       "    <tr>\n",
       "      <th>paint_color</th>\n",
       "      <td>-0.000149</td>\n",
       "      <td>-0.000022</td>\n",
       "      <td>0.013028</td>\n",
       "      <td>0.007087</td>\n",
       "      <td>0.011102</td>\n",
       "      <td>0.003569</td>\n",
       "      <td>0.032928</td>\n",
       "      <td>-0.045042</td>\n",
       "      <td>0.002706</td>\n",
       "      <td>-0.008342</td>\n",
       "      <td>-0.000712</td>\n",
       "      <td>0.060690</td>\n",
       "      <td>0.002492</td>\n",
       "      <td>0.055215</td>\n",
       "      <td>1.000000</td>\n",
       "      <td>-0.013028</td>\n",
       "    </tr>\n",
       "    <tr>\n",
       "      <th>age</th>\n",
       "      <td>0.003604</td>\n",
       "      <td>0.004926</td>\n",
       "      <td>-1.000000</td>\n",
       "      <td>-0.030067</td>\n",
       "      <td>-0.053669</td>\n",
       "      <td>-0.055063</td>\n",
       "      <td>0.131864</td>\n",
       "      <td>-0.090488</td>\n",
       "      <td>0.156774</td>\n",
       "      <td>0.020892</td>\n",
       "      <td>-0.126389</td>\n",
       "      <td>0.122606</td>\n",
       "      <td>0.026336</td>\n",
       "      <td>-0.020349</td>\n",
       "      <td>-0.013028</td>\n",
       "      <td>1.000000</td>\n",
       "    </tr>\n",
       "  </tbody>\n",
       "</table>\n",
       "</div>"
      ],
      "text/plain": [
       "                region     price      year  manufacturer     model  condition  \\\n",
       "region        1.000000 -0.001412 -0.003604      0.001494  0.000215  -0.010965   \n",
       "price        -0.001412  1.000000 -0.004926      0.002516 -0.000625  -0.001064   \n",
       "year         -0.003604 -0.004926  1.000000      0.030067  0.053669   0.055063   \n",
       "manufacturer  0.001494  0.002516  0.030067      1.000000 -0.022137  -0.020637   \n",
       "model         0.000215 -0.000625  0.053669     -0.022137  1.000000   0.007607   \n",
       "condition    -0.010965 -0.001064  0.055063     -0.020637  0.007607   1.000000   \n",
       "cylinders    -0.006795  0.002443 -0.131864     -0.145027  0.049330   0.057547   \n",
       "fuel         -0.004425 -0.000836  0.090488     -0.023986  0.072290   0.131658   \n",
       "odometer     -0.001244  0.010035 -0.156774      0.001079 -0.008011  -0.033387   \n",
       "title_status -0.007796 -0.000870 -0.020892      0.014235 -0.010537   0.009626   \n",
       "transmission -0.015237 -0.000684  0.126389      0.001612  0.011948   0.337125   \n",
       "drive         0.012725 -0.002752 -0.122606     -0.049140 -0.095739   0.051423   \n",
       "size         -0.006994  0.001110 -0.026336      0.005852  0.000932  -0.017365   \n",
       "type          0.003554  0.000148  0.020349      0.043559 -0.098624   0.043240   \n",
       "paint_color  -0.000149 -0.000022  0.013028      0.007087  0.011102   0.003569   \n",
       "age           0.003604  0.004926 -1.000000     -0.030067 -0.053669  -0.055063   \n",
       "\n",
       "              cylinders      fuel  odometer  title_status  transmission  \\\n",
       "region        -0.006795 -0.004425 -0.001244     -0.007796     -0.015237   \n",
       "price          0.002443 -0.000836  0.010035     -0.000870     -0.000684   \n",
       "year          -0.131864  0.090488 -0.156774     -0.020892      0.126389   \n",
       "manufacturer  -0.145027 -0.023986  0.001079      0.014235      0.001612   \n",
       "model          0.049330  0.072290 -0.008011     -0.010537      0.011948   \n",
       "condition      0.057547  0.131658 -0.033387      0.009626      0.337125   \n",
       "cylinders      1.000000 -0.096131  0.026160     -0.033212      0.037850   \n",
       "fuel          -0.096131  1.000000 -0.067363     -0.009699      0.260694   \n",
       "odometer       0.026160 -0.067363  1.000000      0.010062     -0.099753   \n",
       "title_status  -0.033212 -0.009699  0.010062      1.000000     -0.051961   \n",
       "transmission   0.037850  0.260694 -0.099753     -0.051961      1.000000   \n",
       "drive          0.036665  0.031878 -0.011849      0.007529      0.044113   \n",
       "size           0.010368 -0.015137  0.011517      0.012548     -0.060702   \n",
       "type           0.030744 -0.076626  0.004529     -0.003706      0.033253   \n",
       "paint_color    0.032928 -0.045042  0.002706     -0.008342     -0.000712   \n",
       "age            0.131864 -0.090488  0.156774      0.020892     -0.126389   \n",
       "\n",
       "                 drive      size      type  paint_color       age  \n",
       "region        0.012725 -0.006994  0.003554    -0.000149  0.003604  \n",
       "price        -0.002752  0.001110  0.000148    -0.000022  0.004926  \n",
       "year         -0.122606 -0.026336  0.020349     0.013028 -1.000000  \n",
       "manufacturer -0.049140  0.005852  0.043559     0.007087 -0.030067  \n",
       "model        -0.095739  0.000932 -0.098624     0.011102 -0.053669  \n",
       "condition     0.051423 -0.017365  0.043240     0.003569 -0.055063  \n",
       "cylinders     0.036665  0.010368  0.030744     0.032928  0.131864  \n",
       "fuel          0.031878 -0.015137 -0.076626    -0.045042 -0.090488  \n",
       "odometer     -0.011849  0.011517  0.004529     0.002706  0.156774  \n",
       "title_status  0.007529  0.012548 -0.003706    -0.008342  0.020892  \n",
       "transmission  0.044113 -0.060702  0.033253    -0.000712 -0.126389  \n",
       "drive         1.000000  0.043882  0.090268     0.060690  0.122606  \n",
       "size          0.043882  1.000000 -0.074147     0.002492  0.026336  \n",
       "type          0.090268 -0.074147  1.000000     0.055215 -0.020349  \n",
       "paint_color   0.060690  0.002492  0.055215     1.000000 -0.013028  \n",
       "age           0.122606  0.026336 -0.020349    -0.013028  1.000000  "
      ]
     },
     "execution_count": 30,
     "metadata": {},
     "output_type": "execute_result"
    }
   ],
   "source": [
    " auto_copy_preprocessed.corr()"
   ]
  },
  {
   "cell_type": "code",
   "execution_count": 31,
   "metadata": {},
   "outputs": [
    {
     "data": {
      "text/html": [
       "<div>\n",
       "<style scoped>\n",
       "    .dataframe tbody tr th:only-of-type {\n",
       "        vertical-align: middle;\n",
       "    }\n",
       "\n",
       "    .dataframe tbody tr th {\n",
       "        vertical-align: top;\n",
       "    }\n",
       "\n",
       "    .dataframe thead th {\n",
       "        text-align: right;\n",
       "    }\n",
       "</style>\n",
       "<table border=\"1\" class=\"dataframe\">\n",
       "  <thead>\n",
       "    <tr style=\"text-align: right;\">\n",
       "      <th></th>\n",
       "      <th>region</th>\n",
       "      <th>price</th>\n",
       "      <th>year</th>\n",
       "      <th>manufacturer</th>\n",
       "      <th>model</th>\n",
       "      <th>condition</th>\n",
       "      <th>cylinders</th>\n",
       "      <th>fuel</th>\n",
       "      <th>odometer</th>\n",
       "      <th>title_status</th>\n",
       "      <th>transmission</th>\n",
       "      <th>drive</th>\n",
       "      <th>size</th>\n",
       "      <th>type</th>\n",
       "      <th>paint_color</th>\n",
       "      <th>age</th>\n",
       "    </tr>\n",
       "  </thead>\n",
       "  <tbody>\n",
       "    <tr>\n",
       "      <th>count</th>\n",
       "      <td>426880.000000</td>\n",
       "      <td>4.268800e+05</td>\n",
       "      <td>426880.000000</td>\n",
       "      <td>426880.000000</td>\n",
       "      <td>426880.000000</td>\n",
       "      <td>426880.000000</td>\n",
       "      <td>426880.000000</td>\n",
       "      <td>426880.000000</td>\n",
       "      <td>4.268800e+05</td>\n",
       "      <td>426880.000000</td>\n",
       "      <td>426880.000000</td>\n",
       "      <td>426880.000000</td>\n",
       "      <td>426880.000000</td>\n",
       "      <td>426880.000000</td>\n",
       "      <td>426880.000000</td>\n",
       "      <td>426880.000000</td>\n",
       "    </tr>\n",
       "    <tr>\n",
       "      <th>mean</th>\n",
       "      <td>193.978062</td>\n",
       "      <td>7.519903e+04</td>\n",
       "      <td>2011.240173</td>\n",
       "      <td>18.771158</td>\n",
       "      <td>16738.774271</td>\n",
       "      <td>1.160851</td>\n",
       "      <td>4.367288</td>\n",
       "      <td>2.011254</td>\n",
       "      <td>9.791454e+04</td>\n",
       "      <td>0.121486</td>\n",
       "      <td>0.352516</td>\n",
       "      <td>0.523100</td>\n",
       "      <td>1.050319</td>\n",
       "      <td>6.060471</td>\n",
       "      <td>5.459649</td>\n",
       "      <td>10.759827</td>\n",
       "    </tr>\n",
       "    <tr>\n",
       "      <th>std</th>\n",
       "      <td>117.573061</td>\n",
       "      <td>1.218228e+07</td>\n",
       "      <td>9.439234</td>\n",
       "      <td>11.439136</td>\n",
       "      <td>7798.144093</td>\n",
       "      <td>0.863034</td>\n",
       "      <td>1.017483</td>\n",
       "      <td>0.765235</td>\n",
       "      <td>2.127801e+05</td>\n",
       "      <td>0.705323</td>\n",
       "      <td>0.722444</td>\n",
       "      <td>0.724835</td>\n",
       "      <td>0.391878</td>\n",
       "      <td>3.525649</td>\n",
       "      <td>3.456513</td>\n",
       "      <td>9.439234</td>\n",
       "    </tr>\n",
       "    <tr>\n",
       "      <th>min</th>\n",
       "      <td>0.000000</td>\n",
       "      <td>0.000000e+00</td>\n",
       "      <td>1900.000000</td>\n",
       "      <td>0.000000</td>\n",
       "      <td>0.000000</td>\n",
       "      <td>0.000000</td>\n",
       "      <td>0.000000</td>\n",
       "      <td>0.000000</td>\n",
       "      <td>0.000000e+00</td>\n",
       "      <td>0.000000</td>\n",
       "      <td>0.000000</td>\n",
       "      <td>0.000000</td>\n",
       "      <td>0.000000</td>\n",
       "      <td>0.000000</td>\n",
       "      <td>0.000000</td>\n",
       "      <td>0.000000</td>\n",
       "    </tr>\n",
       "    <tr>\n",
       "      <th>25%</th>\n",
       "      <td>82.000000</td>\n",
       "      <td>5.900000e+03</td>\n",
       "      <td>2008.000000</td>\n",
       "      <td>10.000000</td>\n",
       "      <td>11171.000000</td>\n",
       "      <td>1.000000</td>\n",
       "      <td>4.000000</td>\n",
       "      <td>2.000000</td>\n",
       "      <td>3.813000e+04</td>\n",
       "      <td>0.000000</td>\n",
       "      <td>0.000000</td>\n",
       "      <td>0.000000</td>\n",
       "      <td>1.000000</td>\n",
       "      <td>4.000000</td>\n",
       "      <td>3.000000</td>\n",
       "      <td>5.000000</td>\n",
       "    </tr>\n",
       "    <tr>\n",
       "      <th>50%</th>\n",
       "      <td>197.000000</td>\n",
       "      <td>1.395000e+04</td>\n",
       "      <td>2013.000000</td>\n",
       "      <td>16.000000</td>\n",
       "      <td>16738.000000</td>\n",
       "      <td>1.000000</td>\n",
       "      <td>4.000000</td>\n",
       "      <td>2.000000</td>\n",
       "      <td>8.554800e+04</td>\n",
       "      <td>0.000000</td>\n",
       "      <td>0.000000</td>\n",
       "      <td>0.000000</td>\n",
       "      <td>1.000000</td>\n",
       "      <td>6.000000</td>\n",
       "      <td>5.000000</td>\n",
       "      <td>9.000000</td>\n",
       "    </tr>\n",
       "    <tr>\n",
       "      <th>75%</th>\n",
       "      <td>290.000000</td>\n",
       "      <td>2.648575e+04</td>\n",
       "      <td>2017.000000</td>\n",
       "      <td>28.000000</td>\n",
       "      <td>23649.000000</td>\n",
       "      <td>2.000000</td>\n",
       "      <td>5.000000</td>\n",
       "      <td>2.000000</td>\n",
       "      <td>1.330000e+05</td>\n",
       "      <td>0.000000</td>\n",
       "      <td>0.000000</td>\n",
       "      <td>1.000000</td>\n",
       "      <td>1.000000</td>\n",
       "      <td>9.000000</td>\n",
       "      <td>9.000000</td>\n",
       "      <td>14.000000</td>\n",
       "    </tr>\n",
       "    <tr>\n",
       "      <th>max</th>\n",
       "      <td>403.000000</td>\n",
       "      <td>3.736929e+09</td>\n",
       "      <td>2022.000000</td>\n",
       "      <td>41.000000</td>\n",
       "      <td>29648.000000</td>\n",
       "      <td>5.000000</td>\n",
       "      <td>7.000000</td>\n",
       "      <td>4.000000</td>\n",
       "      <td>1.000000e+07</td>\n",
       "      <td>5.000000</td>\n",
       "      <td>2.000000</td>\n",
       "      <td>2.000000</td>\n",
       "      <td>3.000000</td>\n",
       "      <td>12.000000</td>\n",
       "      <td>11.000000</td>\n",
       "      <td>122.000000</td>\n",
       "    </tr>\n",
       "  </tbody>\n",
       "</table>\n",
       "</div>"
      ],
      "text/plain": [
       "              region         price           year   manufacturer  \\\n",
       "count  426880.000000  4.268800e+05  426880.000000  426880.000000   \n",
       "mean      193.978062  7.519903e+04    2011.240173      18.771158   \n",
       "std       117.573061  1.218228e+07       9.439234      11.439136   \n",
       "min         0.000000  0.000000e+00    1900.000000       0.000000   \n",
       "25%        82.000000  5.900000e+03    2008.000000      10.000000   \n",
       "50%       197.000000  1.395000e+04    2013.000000      16.000000   \n",
       "75%       290.000000  2.648575e+04    2017.000000      28.000000   \n",
       "max       403.000000  3.736929e+09    2022.000000      41.000000   \n",
       "\n",
       "               model      condition      cylinders           fuel  \\\n",
       "count  426880.000000  426880.000000  426880.000000  426880.000000   \n",
       "mean    16738.774271       1.160851       4.367288       2.011254   \n",
       "std      7798.144093       0.863034       1.017483       0.765235   \n",
       "min         0.000000       0.000000       0.000000       0.000000   \n",
       "25%     11171.000000       1.000000       4.000000       2.000000   \n",
       "50%     16738.000000       1.000000       4.000000       2.000000   \n",
       "75%     23649.000000       2.000000       5.000000       2.000000   \n",
       "max     29648.000000       5.000000       7.000000       4.000000   \n",
       "\n",
       "           odometer   title_status   transmission          drive  \\\n",
       "count  4.268800e+05  426880.000000  426880.000000  426880.000000   \n",
       "mean   9.791454e+04       0.121486       0.352516       0.523100   \n",
       "std    2.127801e+05       0.705323       0.722444       0.724835   \n",
       "min    0.000000e+00       0.000000       0.000000       0.000000   \n",
       "25%    3.813000e+04       0.000000       0.000000       0.000000   \n",
       "50%    8.554800e+04       0.000000       0.000000       0.000000   \n",
       "75%    1.330000e+05       0.000000       0.000000       1.000000   \n",
       "max    1.000000e+07       5.000000       2.000000       2.000000   \n",
       "\n",
       "                size           type    paint_color            age  \n",
       "count  426880.000000  426880.000000  426880.000000  426880.000000  \n",
       "mean        1.050319       6.060471       5.459649      10.759827  \n",
       "std         0.391878       3.525649       3.456513       9.439234  \n",
       "min         0.000000       0.000000       0.000000       0.000000  \n",
       "25%         1.000000       4.000000       3.000000       5.000000  \n",
       "50%         1.000000       6.000000       5.000000       9.000000  \n",
       "75%         1.000000       9.000000       9.000000      14.000000  \n",
       "max         3.000000      12.000000      11.000000     122.000000  "
      ]
     },
     "execution_count": 31,
     "metadata": {},
     "output_type": "execute_result"
    }
   ],
   "source": [
    "auto_copy_preprocessed.describe()"
   ]
  },
  {
   "cell_type": "markdown",
   "metadata": {},
   "source": [
    "#### Normalization"
   ]
  },
  {
   "cell_type": "markdown",
   "metadata": {},
   "source": [
    "<b> The data is unequally distributed with different scale of min and max. It will be a good idea to Normalize the data before modeling it. We will use MixMaxScaler to normalize the data. </b>"
   ]
  },
  {
   "cell_type": "code",
   "execution_count": 32,
   "metadata": {},
   "outputs": [],
   "source": [
    "# We will split the data into training and test dataset for further analysis. \n",
    "X = auto_copy_preprocessed[['region', 'year','manufacturer', 'model', 'condition',\n",
    "       'cylinders', 'fuel', 'odometer', 'title_status', 'transmission',\n",
    "       'drive', 'size', 'type', 'paint_color', 'age']]\n",
    "\n",
    "y = auto_copy['price']\n",
    "X_train, X_test, y_train, y_test = train_test_split(X, y, test_size=0.3, random_state=42)"
   ]
  },
  {
   "cell_type": "code",
   "execution_count": 33,
   "metadata": {},
   "outputs": [
    {
     "data": {
      "text/html": [
       "<div>\n",
       "<style scoped>\n",
       "    .dataframe tbody tr th:only-of-type {\n",
       "        vertical-align: middle;\n",
       "    }\n",
       "\n",
       "    .dataframe tbody tr th {\n",
       "        vertical-align: top;\n",
       "    }\n",
       "\n",
       "    .dataframe thead th {\n",
       "        text-align: right;\n",
       "    }\n",
       "</style>\n",
       "<table border=\"1\" class=\"dataframe\">\n",
       "  <thead>\n",
       "    <tr style=\"text-align: right;\">\n",
       "      <th></th>\n",
       "      <th>region</th>\n",
       "      <th>year</th>\n",
       "      <th>manufacturer</th>\n",
       "      <th>model</th>\n",
       "      <th>condition</th>\n",
       "      <th>cylinders</th>\n",
       "      <th>fuel</th>\n",
       "      <th>odometer</th>\n",
       "      <th>title_status</th>\n",
       "      <th>transmission</th>\n",
       "      <th>drive</th>\n",
       "      <th>size</th>\n",
       "      <th>type</th>\n",
       "      <th>paint_color</th>\n",
       "      <th>age</th>\n",
       "    </tr>\n",
       "  </thead>\n",
       "  <tbody>\n",
       "    <tr>\n",
       "      <th>0</th>\n",
       "      <td>0.942928</td>\n",
       "      <td>0.975410</td>\n",
       "      <td>0.756098</td>\n",
       "      <td>0.911756</td>\n",
       "      <td>0.0</td>\n",
       "      <td>0.857143</td>\n",
       "      <td>0.0</td>\n",
       "      <td>0.003107</td>\n",
       "      <td>0.0</td>\n",
       "      <td>0.0</td>\n",
       "      <td>0.0</td>\n",
       "      <td>0.333333</td>\n",
       "      <td>0.833333</td>\n",
       "      <td>0.454545</td>\n",
       "      <td>0.024590</td>\n",
       "    </tr>\n",
       "    <tr>\n",
       "      <th>1</th>\n",
       "      <td>0.799007</td>\n",
       "      <td>0.901639</td>\n",
       "      <td>0.439024</td>\n",
       "      <td>0.464631</td>\n",
       "      <td>0.0</td>\n",
       "      <td>0.571429</td>\n",
       "      <td>0.5</td>\n",
       "      <td>0.013853</td>\n",
       "      <td>0.0</td>\n",
       "      <td>0.0</td>\n",
       "      <td>0.0</td>\n",
       "      <td>0.333333</td>\n",
       "      <td>1.000000</td>\n",
       "      <td>0.909091</td>\n",
       "      <td>0.098361</td>\n",
       "    </tr>\n",
       "    <tr>\n",
       "      <th>2</th>\n",
       "      <td>0.585608</td>\n",
       "      <td>0.942623</td>\n",
       "      <td>0.487805</td>\n",
       "      <td>0.726834</td>\n",
       "      <td>0.2</td>\n",
       "      <td>0.428571</td>\n",
       "      <td>0.5</td>\n",
       "      <td>0.008982</td>\n",
       "      <td>0.0</td>\n",
       "      <td>0.0</td>\n",
       "      <td>0.0</td>\n",
       "      <td>0.333333</td>\n",
       "      <td>0.000000</td>\n",
       "      <td>0.454545</td>\n",
       "      <td>0.057377</td>\n",
       "    </tr>\n",
       "    <tr>\n",
       "      <th>3</th>\n",
       "      <td>0.158809</td>\n",
       "      <td>0.926230</td>\n",
       "      <td>0.682927</td>\n",
       "      <td>0.718705</td>\n",
       "      <td>0.2</td>\n",
       "      <td>0.428571</td>\n",
       "      <td>0.5</td>\n",
       "      <td>0.007025</td>\n",
       "      <td>0.0</td>\n",
       "      <td>0.0</td>\n",
       "      <td>0.0</td>\n",
       "      <td>0.333333</td>\n",
       "      <td>0.333333</td>\n",
       "      <td>0.727273</td>\n",
       "      <td>0.073770</td>\n",
       "    </tr>\n",
       "    <tr>\n",
       "      <th>4</th>\n",
       "      <td>0.481390</td>\n",
       "      <td>0.959016</td>\n",
       "      <td>0.390244</td>\n",
       "      <td>0.599798</td>\n",
       "      <td>0.2</td>\n",
       "      <td>0.571429</td>\n",
       "      <td>0.5</td>\n",
       "      <td>0.002322</td>\n",
       "      <td>0.0</td>\n",
       "      <td>1.0</td>\n",
       "      <td>0.0</td>\n",
       "      <td>0.333333</td>\n",
       "      <td>0.500000</td>\n",
       "      <td>0.636364</td>\n",
       "      <td>0.040984</td>\n",
       "    </tr>\n",
       "    <tr>\n",
       "      <th>...</th>\n",
       "      <td>...</td>\n",
       "      <td>...</td>\n",
       "      <td>...</td>\n",
       "      <td>...</td>\n",
       "      <td>...</td>\n",
       "      <td>...</td>\n",
       "      <td>...</td>\n",
       "      <td>...</td>\n",
       "      <td>...</td>\n",
       "      <td>...</td>\n",
       "      <td>...</td>\n",
       "      <td>...</td>\n",
       "      <td>...</td>\n",
       "      <td>...</td>\n",
       "      <td>...</td>\n",
       "    </tr>\n",
       "    <tr>\n",
       "      <th>298811</th>\n",
       "      <td>0.009926</td>\n",
       "      <td>0.926230</td>\n",
       "      <td>0.975610</td>\n",
       "      <td>0.623512</td>\n",
       "      <td>0.4</td>\n",
       "      <td>0.571429</td>\n",
       "      <td>0.5</td>\n",
       "      <td>0.013920</td>\n",
       "      <td>0.0</td>\n",
       "      <td>0.5</td>\n",
       "      <td>0.5</td>\n",
       "      <td>0.666667</td>\n",
       "      <td>0.750000</td>\n",
       "      <td>0.818182</td>\n",
       "      <td>0.073770</td>\n",
       "    </tr>\n",
       "    <tr>\n",
       "      <th>298812</th>\n",
       "      <td>0.044665</td>\n",
       "      <td>0.401639</td>\n",
       "      <td>0.341463</td>\n",
       "      <td>0.720796</td>\n",
       "      <td>0.2</td>\n",
       "      <td>0.571429</td>\n",
       "      <td>0.5</td>\n",
       "      <td>0.002740</td>\n",
       "      <td>0.0</td>\n",
       "      <td>0.0</td>\n",
       "      <td>0.0</td>\n",
       "      <td>0.333333</td>\n",
       "      <td>0.500000</td>\n",
       "      <td>0.454545</td>\n",
       "      <td>0.598361</td>\n",
       "    </tr>\n",
       "    <tr>\n",
       "      <th>298813</th>\n",
       "      <td>0.081886</td>\n",
       "      <td>0.934426</td>\n",
       "      <td>0.317073</td>\n",
       "      <td>0.515163</td>\n",
       "      <td>0.0</td>\n",
       "      <td>0.714286</td>\n",
       "      <td>0.5</td>\n",
       "      <td>0.018415</td>\n",
       "      <td>0.0</td>\n",
       "      <td>1.0</td>\n",
       "      <td>0.0</td>\n",
       "      <td>0.333333</td>\n",
       "      <td>0.833333</td>\n",
       "      <td>0.454545</td>\n",
       "      <td>0.065574</td>\n",
       "    </tr>\n",
       "    <tr>\n",
       "      <th>298814</th>\n",
       "      <td>0.861042</td>\n",
       "      <td>0.934426</td>\n",
       "      <td>0.317073</td>\n",
       "      <td>0.560634</td>\n",
       "      <td>0.2</td>\n",
       "      <td>0.428571</td>\n",
       "      <td>0.5</td>\n",
       "      <td>0.011109</td>\n",
       "      <td>0.0</td>\n",
       "      <td>0.0</td>\n",
       "      <td>0.5</td>\n",
       "      <td>0.666667</td>\n",
       "      <td>0.750000</td>\n",
       "      <td>0.818182</td>\n",
       "      <td>0.065574</td>\n",
       "    </tr>\n",
       "    <tr>\n",
       "      <th>298815</th>\n",
       "      <td>0.037221</td>\n",
       "      <td>0.909836</td>\n",
       "      <td>0.317073</td>\n",
       "      <td>0.518570</td>\n",
       "      <td>0.0</td>\n",
       "      <td>0.857143</td>\n",
       "      <td>0.0</td>\n",
       "      <td>0.021867</td>\n",
       "      <td>0.0</td>\n",
       "      <td>0.0</td>\n",
       "      <td>0.0</td>\n",
       "      <td>0.333333</td>\n",
       "      <td>0.833333</td>\n",
       "      <td>0.000000</td>\n",
       "      <td>0.090164</td>\n",
       "    </tr>\n",
       "  </tbody>\n",
       "</table>\n",
       "<p>298816 rows × 15 columns</p>\n",
       "</div>"
      ],
      "text/plain": [
       "          region      year  manufacturer     model  condition  cylinders  \\\n",
       "0       0.942928  0.975410      0.756098  0.911756        0.0   0.857143   \n",
       "1       0.799007  0.901639      0.439024  0.464631        0.0   0.571429   \n",
       "2       0.585608  0.942623      0.487805  0.726834        0.2   0.428571   \n",
       "3       0.158809  0.926230      0.682927  0.718705        0.2   0.428571   \n",
       "4       0.481390  0.959016      0.390244  0.599798        0.2   0.571429   \n",
       "...          ...       ...           ...       ...        ...        ...   \n",
       "298811  0.009926  0.926230      0.975610  0.623512        0.4   0.571429   \n",
       "298812  0.044665  0.401639      0.341463  0.720796        0.2   0.571429   \n",
       "298813  0.081886  0.934426      0.317073  0.515163        0.0   0.714286   \n",
       "298814  0.861042  0.934426      0.317073  0.560634        0.2   0.428571   \n",
       "298815  0.037221  0.909836      0.317073  0.518570        0.0   0.857143   \n",
       "\n",
       "        fuel  odometer  title_status  transmission  drive      size      type  \\\n",
       "0        0.0  0.003107           0.0           0.0    0.0  0.333333  0.833333   \n",
       "1        0.5  0.013853           0.0           0.0    0.0  0.333333  1.000000   \n",
       "2        0.5  0.008982           0.0           0.0    0.0  0.333333  0.000000   \n",
       "3        0.5  0.007025           0.0           0.0    0.0  0.333333  0.333333   \n",
       "4        0.5  0.002322           0.0           1.0    0.0  0.333333  0.500000   \n",
       "...      ...       ...           ...           ...    ...       ...       ...   \n",
       "298811   0.5  0.013920           0.0           0.5    0.5  0.666667  0.750000   \n",
       "298812   0.5  0.002740           0.0           0.0    0.0  0.333333  0.500000   \n",
       "298813   0.5  0.018415           0.0           1.0    0.0  0.333333  0.833333   \n",
       "298814   0.5  0.011109           0.0           0.0    0.5  0.666667  0.750000   \n",
       "298815   0.0  0.021867           0.0           0.0    0.0  0.333333  0.833333   \n",
       "\n",
       "        paint_color       age  \n",
       "0          0.454545  0.024590  \n",
       "1          0.909091  0.098361  \n",
       "2          0.454545  0.057377  \n",
       "3          0.727273  0.073770  \n",
       "4          0.636364  0.040984  \n",
       "...             ...       ...  \n",
       "298811     0.818182  0.073770  \n",
       "298812     0.454545  0.598361  \n",
       "298813     0.454545  0.065574  \n",
       "298814     0.818182  0.065574  \n",
       "298815     0.000000  0.090164  \n",
       "\n",
       "[298816 rows x 15 columns]"
      ]
     },
     "execution_count": 33,
     "metadata": {},
     "output_type": "execute_result"
    }
   ],
   "source": [
    "# Scaled data. This is a independent test to see how the scaler works. \n",
    "#The real scaling on the data is plugged into the pipeline in the modeling section.\n",
    "\n",
    "scaler = MinMaxScaler()\n",
    "auto_scaled_train = scaler.fit_transform(X_train) \n",
    "pd.DataFrame(auto_scaled_train, columns=X.columns)"
   ]
  },
  {
   "cell_type": "markdown",
   "metadata": {},
   "source": [
    "### Modeling\n",
    "\n",
    "With your (almost?) final dataset in hand, it is now time to build some models.  Here, you should build a number of different regression models with the price as the target.  In building your models, you should explore different parameters and be sure to cross-validate your findings."
   ]
  },
  {
   "cell_type": "code",
   "execution_count": 34,
   "metadata": {},
   "outputs": [],
   "source": [
    "# Create the pipeline to scale and model at the same time\n",
    "\n",
    "pipe = Pipeline(steps=[('scaler', MinMaxScaler()), ('model', LinearRegression())])"
   ]
  },
  {
   "cell_type": "code",
   "execution_count": 35,
   "metadata": {},
   "outputs": [
    {
     "data": {
      "text/html": [
       "<div>\n",
       "<style scoped>\n",
       "    .dataframe tbody tr th:only-of-type {\n",
       "        vertical-align: middle;\n",
       "    }\n",
       "\n",
       "    .dataframe tbody tr th {\n",
       "        vertical-align: top;\n",
       "    }\n",
       "\n",
       "    .dataframe thead th {\n",
       "        text-align: right;\n",
       "    }\n",
       "</style>\n",
       "<table border=\"1\" class=\"dataframe\">\n",
       "  <thead>\n",
       "    <tr style=\"text-align: right;\">\n",
       "      <th></th>\n",
       "      <th>fit_time</th>\n",
       "      <th>score_time</th>\n",
       "      <th>test_score</th>\n",
       "      <th>train_score</th>\n",
       "    </tr>\n",
       "  </thead>\n",
       "  <tbody>\n",
       "    <tr>\n",
       "      <th>0</th>\n",
       "      <td>0.172937</td>\n",
       "      <td>0.015531</td>\n",
       "      <td>-0.002420</td>\n",
       "      <td>0.000521</td>\n",
       "    </tr>\n",
       "    <tr>\n",
       "      <th>1</th>\n",
       "      <td>0.131075</td>\n",
       "      <td>0.014239</td>\n",
       "      <td>-0.131379</td>\n",
       "      <td>0.000497</td>\n",
       "    </tr>\n",
       "    <tr>\n",
       "      <th>2</th>\n",
       "      <td>0.130982</td>\n",
       "      <td>0.014465</td>\n",
       "      <td>0.000820</td>\n",
       "      <td>0.000091</td>\n",
       "    </tr>\n",
       "    <tr>\n",
       "      <th>3</th>\n",
       "      <td>0.127678</td>\n",
       "      <td>0.014495</td>\n",
       "      <td>0.000007</td>\n",
       "      <td>0.000581</td>\n",
       "    </tr>\n",
       "    <tr>\n",
       "      <th>4</th>\n",
       "      <td>0.128309</td>\n",
       "      <td>0.014122</td>\n",
       "      <td>-0.000098</td>\n",
       "      <td>0.000830</td>\n",
       "    </tr>\n",
       "  </tbody>\n",
       "</table>\n",
       "</div>"
      ],
      "text/plain": [
       "   fit_time  score_time  test_score  train_score\n",
       "0  0.172937    0.015531   -0.002420     0.000521\n",
       "1  0.131075    0.014239   -0.131379     0.000497\n",
       "2  0.130982    0.014465    0.000820     0.000091\n",
       "3  0.127678    0.014495    0.000007     0.000581\n",
       "4  0.128309    0.014122   -0.000098     0.000830"
      ]
     },
     "execution_count": 35,
     "metadata": {},
     "output_type": "execute_result"
    }
   ],
   "source": [
    "from sklearn.model_selection import cross_validate\n",
    "\n",
    "with_categorical_scores = cross_validate(pipe, X_train, y_train, return_train_score=True)\n",
    "categorical_score = pd.DataFrame(with_categorical_scores)\n",
    "categorical_score"
   ]
  },
  {
   "cell_type": "markdown",
   "metadata": {},
   "source": [
    "## Linear Regression w/o Scaling"
   ]
  },
  {
   "cell_type": "code",
   "execution_count": 36,
   "metadata": {},
   "outputs": [
    {
     "data": {
      "text/plain": [
       "array([  49726.80757801,   59035.95383878, -100595.73350087, ...,\n",
       "        -89786.22905014,  -62255.81732686,   11627.5901422 ])"
      ]
     },
     "execution_count": 36,
     "metadata": {},
     "output_type": "execute_result"
    }
   ],
   "source": [
    "linear_model = LinearRegression()\n",
    "linear_model.fit(X_train, y_train)\n",
    "y_pred = linear_model.predict(X_test)\n",
    "y_pred"
   ]
  },
  {
   "cell_type": "code",
   "execution_count": 37,
   "metadata": {},
   "outputs": [
    {
     "name": "stdout",
     "output_type": "stream",
     "text": [
      "coefficent [-4.96758462e+01 -3.15549152e+03  2.30942700e+03 -2.16138686e+00\n",
      "  4.32881675e+03  1.48761601e+03 -3.56138195e+03  8.55957438e-01\n",
      " -1.47241733e+04  4.40623087e+04 -3.81355816e+04  5.91817741e+04\n",
      " -9.81303200e+02 -2.27759616e+03  3.15549152e+03]\n",
      "\n",
      " Mean Squared Error / MSE:  261026904664502.38\n"
     ]
    }
   ],
   "source": [
    "print('coefficent', linear_model.coef_)\n",
    "print('\\n Mean Squared Error / MSE: ', mean_squared_error(y_pred, y_test))"
   ]
  },
  {
   "cell_type": "code",
   "execution_count": 38,
   "metadata": {},
   "outputs": [
    {
     "data": {
      "image/png": "[encoded data removed]",
      "text/plain": [
       "<Figure size 432x432 with 1 Axes>"
      ]
     },
     "metadata": {
      "needs_background": "light"
     },
     "output_type": "display_data"
    }
   ],
   "source": [
    "#Ploting feature importance graph\n",
    "\n",
    "coef = pd.Series(linear_model.coef_, index = X_train.columns)\n",
    "imp_coef = coef.sort_values()\n",
    "plt.rcParams['figure.figsize'] = (6.0, 6.0)\n",
    "imp_coef.plot(kind = \"barh\")\n",
    "plt.title(\"Feature importance using Linear Regression Model\")\n",
    "plt.savefig('Linear-Regression-Feature-Importance.jpg')\n",
    "plt.show()"
   ]
  },
  {
   "cell_type": "markdown",
   "metadata": {},
   "source": [
    "### Linear Regression w/ Scaling"
   ]
  },
  {
   "cell_type": "code",
   "execution_count": 39,
   "metadata": {},
   "outputs": [
    {
     "data": {
      "text/html": [
       "<style>div.sk-top-container {color: black;background-color: white;}div.sk-toggleable {background-color: white;}label.sk-toggleable__label {cursor: pointer;display: block;width: 100%;margin-bottom: 0;padding: 0.2em 0.3em;box-sizing: border-box;text-align: center;}div.sk-toggleable__content {max-height: 0;max-width: 0;overflow: hidden;text-align: left;background-color: #f0f8ff;}div.sk-toggleable__content pre {margin: 0.2em;color: black;border-radius: 0.25em;background-color: #f0f8ff;}input.sk-toggleable__control:checked~div.sk-toggleable__content {max-height: 200px;max-width: 100%;overflow: auto;}div.sk-estimator input.sk-toggleable__control:checked~label.sk-toggleable__label {background-color: #d4ebff;}div.sk-label input.sk-toggleable__control:checked~label.sk-toggleable__label {background-color: #d4ebff;}input.sk-hidden--visually {border: 0;clip: rect(1px 1px 1px 1px);clip: rect(1px, 1px, 1px, 1px);height: 1px;margin: -1px;overflow: hidden;padding: 0;position: absolute;width: 1px;}div.sk-estimator {font-family: monospace;background-color: #f0f8ff;margin: 0.25em 0.25em;border: 1px dotted black;border-radius: 0.25em;box-sizing: border-box;}div.sk-estimator:hover {background-color: #d4ebff;}div.sk-parallel-item::after {content: \"\";width: 100%;border-bottom: 1px solid gray;flex-grow: 1;}div.sk-label:hover label.sk-toggleable__label {background-color: #d4ebff;}div.sk-serial::before {content: \"\";position: absolute;border-left: 1px solid gray;box-sizing: border-box;top: 2em;bottom: 0;left: 50%;}div.sk-serial {display: flex;flex-direction: column;align-items: center;background-color: white;}div.sk-item {z-index: 1;}div.sk-parallel {display: flex;align-items: stretch;justify-content: center;background-color: white;}div.sk-parallel-item {display: flex;flex-direction: column;position: relative;background-color: white;}div.sk-parallel-item:first-child::after {align-self: flex-end;width: 50%;}div.sk-parallel-item:last-child::after {align-self: flex-start;width: 50%;}div.sk-parallel-item:only-child::after {width: 0;}div.sk-dashed-wrapped {border: 1px dashed gray;margin: 0.2em;box-sizing: border-box;padding-bottom: 0.1em;background-color: white;position: relative;}div.sk-label label {font-family: monospace;font-weight: bold;background-color: white;display: inline-block;line-height: 1.2em;}div.sk-label-container {position: relative;z-index: 2;text-align: center;}div.sk-container {display: inline-block;position: relative;}</style><div class=\"sk-top-container\"><div class=\"sk-container\"><div class=\"sk-item sk-dashed-wrapped\"><div class=\"sk-label-container\"><div class=\"sk-label sk-toggleable\"><input class=\"sk-toggleable__control sk-hidden--visually\" id=\"bcfa4b18-ef7f-4a02-b44b-fed00be91e0f\" type=\"checkbox\" ><label class=\"sk-toggleable__label\" for=\"bcfa4b18-ef7f-4a02-b44b-fed00be91e0f\">Pipeline</label><div class=\"sk-toggleable__content\"><pre>Pipeline(steps=[('scaler', StandardScaler()), ('model', LinearRegression())])</pre></div></div></div><div class=\"sk-serial\"><div class=\"sk-item\"><div class=\"sk-estimator sk-toggleable\"><input class=\"sk-toggleable__control sk-hidden--visually\" id=\"0639b2b5-4cff-4d71-969c-1a1207648230\" type=\"checkbox\" ><label class=\"sk-toggleable__label\" for=\"0639b2b5-4cff-4d71-969c-1a1207648230\">StandardScaler</label><div class=\"sk-toggleable__content\"><pre>StandardScaler()</pre></div></div></div><div class=\"sk-item\"><div class=\"sk-estimator sk-toggleable\"><input class=\"sk-toggleable__control sk-hidden--visually\" id=\"4abf80da-6a70-4318-8156-c21325dd6af8\" type=\"checkbox\" ><label class=\"sk-toggleable__label\" for=\"4abf80da-6a70-4318-8156-c21325dd6af8\">LinearRegression</label><div class=\"sk-toggleable__content\"><pre>LinearRegression()</pre></div></div></div></div></div></div></div>"
      ],
      "text/plain": [
       "Pipeline(steps=[('scaler', StandardScaler()), ('model', LinearRegression())])"
      ]
     },
     "execution_count": 39,
     "metadata": {},
     "output_type": "execute_result"
    }
   ],
   "source": [
    "# Create the pipeline to scale and model at the same time\n",
    "\n",
    "pipe_scaled = Pipeline(steps=[('scaler', StandardScaler()), ('model', LinearRegression())])\n",
    "pipe_scaled.fit(X_train, y_train)"
   ]
  },
  {
   "cell_type": "code",
   "execution_count": 40,
   "metadata": {},
   "outputs": [],
   "source": [
    "y_pred_linear = pipe_scaled.predict(X_test)"
   ]
  },
  {
   "cell_type": "code",
   "execution_count": 41,
   "metadata": {},
   "outputs": [
    {
     "data": {
      "text/plain": [
       "array([ -5841.90568629, -29906.56808788,  26413.44520884, -16845.74801112,\n",
       "         3730.92886786,   1513.7172615 ,  -2723.59902838, 176573.92074713,\n",
       "       -10366.49072416,  31789.28690983, -27618.85089555,  23240.00334138,\n",
       "        -3459.5614021 ,  -7873.04664049,  29906.56808788])"
      ]
     },
     "execution_count": 41,
     "metadata": {},
     "output_type": "execute_result"
    }
   ],
   "source": [
    "pipe_scaled.named_steps[\"model\"].coef_"
   ]
  },
  {
   "cell_type": "code",
   "execution_count": 42,
   "metadata": {},
   "outputs": [
    {
     "data": {
      "image/png": "[encoded data removed]",
      "text/plain": [
       "<Figure size 432x432 with 1 Axes>"
      ]
     },
     "metadata": {
      "needs_background": "light"
     },
     "output_type": "display_data"
    }
   ],
   "source": [
    "#Ploting feature importance graph\n",
    "\n",
    "coef = pd.Series(pipe_scaled.named_steps[\"model\"].coef_, index = X_train.columns)\n",
    "imp_coef = coef.sort_values()\n",
    "plt.rcParams['figure.figsize'] = (6.0, 6.0)\n",
    "imp_coef.plot(kind = \"barh\")\n",
    "plt.title(\"Feature importance using Linear Regression Model\")\n",
    "plt.savefig('Linear-Regression-Feature-Importance.jpg')\n",
    "plt.show()"
   ]
  },
  {
   "cell_type": "markdown",
   "metadata": {},
   "source": [
    "## Ridge Regression w/o Scaling"
   ]
  },
  {
   "cell_type": "code",
   "execution_count": 43,
   "metadata": {},
   "outputs": [
    {
     "data": {
      "text/plain": [
       "array([  49712.58746898,   59042.71654761, -100581.35030996, ...,\n",
       "        -89775.40990914,  -62253.14262347,   11628.80357417])"
      ]
     },
     "execution_count": 43,
     "metadata": {},
     "output_type": "execute_result"
    }
   ],
   "source": [
    "ridge_model = Ridge(alpha=20.336,solver='auto')\n",
    "ridge_model.fit(X_train,y_train)\n",
    "y_pred=ridge_model.predict(X_test)\n",
    "y_pred"
   ]
  },
  {
   "cell_type": "code",
   "execution_count": 44,
   "metadata": {},
   "outputs": [
    {
     "name": "stdout",
     "output_type": "stream",
     "text": [
      "Mean MAE: 222404.321 (128727.096)\n"
     ]
    }
   ],
   "source": [
    "from numpy import absolute, mean, std\n",
    "# define model evaluation method\n",
    "cv = RepeatedKFold(n_splits=10, n_repeats=3, random_state=1)\n",
    "# evaluate model\n",
    "scores = cross_val_score(ridge_model, X_test, y_test, scoring='neg_mean_absolute_error', cv=cv, n_jobs=-1)\n",
    "# force scores to be positive\n",
    "scores = absolute(scores)\n",
    "print('Mean MAE: %.3f (%.3f)' % (mean(scores), std(scores)))"
   ]
  },
  {
   "cell_type": "code",
   "execution_count": 45,
   "metadata": {},
   "outputs": [
    {
     "data": {
      "image/png": "[encoded data removed]",
      "text/plain": [
       "<Figure size 432x432 with 1 Axes>"
      ]
     },
     "metadata": {
      "needs_background": "light"
     },
     "output_type": "display_data"
    }
   ],
   "source": [
    "#Visualization of Feature Importance\n",
    "\n",
    "coef = pd.Series(ridge_model.coef_, index = X_train.columns)\n",
    "imp_coef = coef.sort_values()\n",
    "plt.rcParams['figure.figsize'] = (6.0, 6.0)\n",
    "imp_coef.plot(kind = \"barh\")\n",
    "plt.title(\"Feature importance using Ridge Model\")\n",
    "plt.savefig('Ridge-Regression-Feature-Importance.jpg')\n",
    "plt.show()"
   ]
  },
  {
   "cell_type": "markdown",
   "metadata": {},
   "source": [
    "## Ridge Regression w/ Scaling"
   ]
  },
  {
   "cell_type": "code",
   "execution_count": 46,
   "metadata": {},
   "outputs": [
    {
     "data": {
      "text/html": [
       "<style>div.sk-top-container {color: black;background-color: white;}div.sk-toggleable {background-color: white;}label.sk-toggleable__label {cursor: pointer;display: block;width: 100%;margin-bottom: 0;padding: 0.2em 0.3em;box-sizing: border-box;text-align: center;}div.sk-toggleable__content {max-height: 0;max-width: 0;overflow: hidden;text-align: left;background-color: #f0f8ff;}div.sk-toggleable__content pre {margin: 0.2em;color: black;border-radius: 0.25em;background-color: #f0f8ff;}input.sk-toggleable__control:checked~div.sk-toggleable__content {max-height: 200px;max-width: 100%;overflow: auto;}div.sk-estimator input.sk-toggleable__control:checked~label.sk-toggleable__label {background-color: #d4ebff;}div.sk-label input.sk-toggleable__control:checked~label.sk-toggleable__label {background-color: #d4ebff;}input.sk-hidden--visually {border: 0;clip: rect(1px 1px 1px 1px);clip: rect(1px, 1px, 1px, 1px);height: 1px;margin: -1px;overflow: hidden;padding: 0;position: absolute;width: 1px;}div.sk-estimator {font-family: monospace;background-color: #f0f8ff;margin: 0.25em 0.25em;border: 1px dotted black;border-radius: 0.25em;box-sizing: border-box;}div.sk-estimator:hover {background-color: #d4ebff;}div.sk-parallel-item::after {content: \"\";width: 100%;border-bottom: 1px solid gray;flex-grow: 1;}div.sk-label:hover label.sk-toggleable__label {background-color: #d4ebff;}div.sk-serial::before {content: \"\";position: absolute;border-left: 1px solid gray;box-sizing: border-box;top: 2em;bottom: 0;left: 50%;}div.sk-serial {display: flex;flex-direction: column;align-items: center;background-color: white;}div.sk-item {z-index: 1;}div.sk-parallel {display: flex;align-items: stretch;justify-content: center;background-color: white;}div.sk-parallel-item {display: flex;flex-direction: column;position: relative;background-color: white;}div.sk-parallel-item:first-child::after {align-self: flex-end;width: 50%;}div.sk-parallel-item:last-child::after {align-self: flex-start;width: 50%;}div.sk-parallel-item:only-child::after {width: 0;}div.sk-dashed-wrapped {border: 1px dashed gray;margin: 0.2em;box-sizing: border-box;padding-bottom: 0.1em;background-color: white;position: relative;}div.sk-label label {font-family: monospace;font-weight: bold;background-color: white;display: inline-block;line-height: 1.2em;}div.sk-label-container {position: relative;z-index: 2;text-align: center;}div.sk-container {display: inline-block;position: relative;}</style><div class=\"sk-top-container\"><div class=\"sk-container\"><div class=\"sk-item sk-dashed-wrapped\"><div class=\"sk-label-container\"><div class=\"sk-label sk-toggleable\"><input class=\"sk-toggleable__control sk-hidden--visually\" id=\"2e4bcdc7-63c1-4c45-8d45-483769f9596f\" type=\"checkbox\" ><label class=\"sk-toggleable__label\" for=\"2e4bcdc7-63c1-4c45-8d45-483769f9596f\">Pipeline</label><div class=\"sk-toggleable__content\"><pre>Pipeline(steps=[('scaler', StandardScaler()), ('model', Ridge(alpha=20.336))])</pre></div></div></div><div class=\"sk-serial\"><div class=\"sk-item\"><div class=\"sk-estimator sk-toggleable\"><input class=\"sk-toggleable__control sk-hidden--visually\" id=\"b978dfb2-8fee-46d1-9dd8-ce48ade63aed\" type=\"checkbox\" ><label class=\"sk-toggleable__label\" for=\"b978dfb2-8fee-46d1-9dd8-ce48ade63aed\">StandardScaler</label><div class=\"sk-toggleable__content\"><pre>StandardScaler()</pre></div></div></div><div class=\"sk-item\"><div class=\"sk-estimator sk-toggleable\"><input class=\"sk-toggleable__control sk-hidden--visually\" id=\"6bf4c96e-0560-47d9-a48f-76f726905198\" type=\"checkbox\" ><label class=\"sk-toggleable__label\" for=\"6bf4c96e-0560-47d9-a48f-76f726905198\">Ridge</label><div class=\"sk-toggleable__content\"><pre>Ridge(alpha=20.336)</pre></div></div></div></div></div></div></div>"
      ],
      "text/plain": [
       "Pipeline(steps=[('scaler', StandardScaler()), ('model', Ridge(alpha=20.336))])"
      ]
     },
     "execution_count": 46,
     "metadata": {},
     "output_type": "execute_result"
    }
   ],
   "source": [
    "# Create the pipeline to scale and model at the same time\n",
    "\n",
    "pipe_scaled_ridge = Pipeline(steps=[('scaler', StandardScaler()), ('model', Ridge(alpha=20.336,solver='auto'))])\n",
    "pipe_scaled_ridge.fit(X_train, y_train)"
   ]
  },
  {
   "cell_type": "code",
   "execution_count": 47,
   "metadata": {},
   "outputs": [],
   "source": [
    "y_pred_ridge = pipe_scaled_ridge.predict(X_test)"
   ]
  },
  {
   "cell_type": "code",
   "execution_count": 48,
   "metadata": {},
   "outputs": [
    {
     "data": {
      "image/png": "[encoded data removed]",
      "text/plain": [
       "<Figure size 432x432 with 1 Axes>"
      ]
     },
     "metadata": {
      "needs_background": "light"
     },
     "output_type": "display_data"
    }
   ],
   "source": [
    "#Ploting feature importance graph\n",
    "\n",
    "coef = pd.Series(pipe_scaled_ridge.named_steps[\"model\"].coef_, index = X_train.columns)\n",
    "imp_coef = coef.sort_values()\n",
    "plt.rcParams['figure.figsize'] = (6.0, 6.0)\n",
    "imp_coef.plot(kind = \"barh\")\n",
    "plt.title(\"Feature importance using Ridge Regression Model\")\n",
    "plt.savefig('Ridge-Regression-Feature-Importance.jpg')\n",
    "plt.show()"
   ]
  },
  {
   "cell_type": "markdown",
   "metadata": {},
   "source": [
    "## Lasso Regression w/ Scaling"
   ]
  },
  {
   "cell_type": "code",
   "execution_count": 49,
   "metadata": {},
   "outputs": [
    {
     "data": {
      "text/html": [
       "<style>div.sk-top-container {color: black;background-color: white;}div.sk-toggleable {background-color: white;}label.sk-toggleable__label {cursor: pointer;display: block;width: 100%;margin-bottom: 0;padding: 0.2em 0.3em;box-sizing: border-box;text-align: center;}div.sk-toggleable__content {max-height: 0;max-width: 0;overflow: hidden;text-align: left;background-color: #f0f8ff;}div.sk-toggleable__content pre {margin: 0.2em;color: black;border-radius: 0.25em;background-color: #f0f8ff;}input.sk-toggleable__control:checked~div.sk-toggleable__content {max-height: 200px;max-width: 100%;overflow: auto;}div.sk-estimator input.sk-toggleable__control:checked~label.sk-toggleable__label {background-color: #d4ebff;}div.sk-label input.sk-toggleable__control:checked~label.sk-toggleable__label {background-color: #d4ebff;}input.sk-hidden--visually {border: 0;clip: rect(1px 1px 1px 1px);clip: rect(1px, 1px, 1px, 1px);height: 1px;margin: -1px;overflow: hidden;padding: 0;position: absolute;width: 1px;}div.sk-estimator {font-family: monospace;background-color: #f0f8ff;margin: 0.25em 0.25em;border: 1px dotted black;border-radius: 0.25em;box-sizing: border-box;}div.sk-estimator:hover {background-color: #d4ebff;}div.sk-parallel-item::after {content: \"\";width: 100%;border-bottom: 1px solid gray;flex-grow: 1;}div.sk-label:hover label.sk-toggleable__label {background-color: #d4ebff;}div.sk-serial::before {content: \"\";position: absolute;border-left: 1px solid gray;box-sizing: border-box;top: 2em;bottom: 0;left: 50%;}div.sk-serial {display: flex;flex-direction: column;align-items: center;background-color: white;}div.sk-item {z-index: 1;}div.sk-parallel {display: flex;align-items: stretch;justify-content: center;background-color: white;}div.sk-parallel-item {display: flex;flex-direction: column;position: relative;background-color: white;}div.sk-parallel-item:first-child::after {align-self: flex-end;width: 50%;}div.sk-parallel-item:last-child::after {align-self: flex-start;width: 50%;}div.sk-parallel-item:only-child::after {width: 0;}div.sk-dashed-wrapped {border: 1px dashed gray;margin: 0.2em;box-sizing: border-box;padding-bottom: 0.1em;background-color: white;position: relative;}div.sk-label label {font-family: monospace;font-weight: bold;background-color: white;display: inline-block;line-height: 1.2em;}div.sk-label-container {position: relative;z-index: 2;text-align: center;}div.sk-container {display: inline-block;position: relative;}</style><div class=\"sk-top-container\"><div class=\"sk-container\"><div class=\"sk-item sk-dashed-wrapped\"><div class=\"sk-label-container\"><div class=\"sk-label sk-toggleable\"><input class=\"sk-toggleable__control sk-hidden--visually\" id=\"b9c7839b-613e-48b2-bdc9-af0475f7188f\" type=\"checkbox\" ><label class=\"sk-toggleable__label\" for=\"b9c7839b-613e-48b2-bdc9-af0475f7188f\">Pipeline</label><div class=\"sk-toggleable__content\"><pre>Pipeline(steps=[('scaler', StandardScaler()), ('model', Lasso(alpha=0.0001))])</pre></div></div></div><div class=\"sk-serial\"><div class=\"sk-item\"><div class=\"sk-estimator sk-toggleable\"><input class=\"sk-toggleable__control sk-hidden--visually\" id=\"9e84070a-31a0-4ad2-8324-98ee484f5b04\" type=\"checkbox\" ><label class=\"sk-toggleable__label\" for=\"9e84070a-31a0-4ad2-8324-98ee484f5b04\">StandardScaler</label><div class=\"sk-toggleable__content\"><pre>StandardScaler()</pre></div></div></div><div class=\"sk-item\"><div class=\"sk-estimator sk-toggleable\"><input class=\"sk-toggleable__control sk-hidden--visually\" id=\"79548312-ee65-489e-b5f1-26d767c76e5a\" type=\"checkbox\" ><label class=\"sk-toggleable__label\" for=\"79548312-ee65-489e-b5f1-26d767c76e5a\">Lasso</label><div class=\"sk-toggleable__content\"><pre>Lasso(alpha=0.0001)</pre></div></div></div></div></div></div></div>"
      ],
      "text/plain": [
       "Pipeline(steps=[('scaler', StandardScaler()), ('model', Lasso(alpha=0.0001))])"
      ]
     },
     "execution_count": 49,
     "metadata": {},
     "output_type": "execute_result"
    }
   ],
   "source": [
    "# Create the pipeline to scale and model at the same time\n",
    "\n",
    "pipe_scaled_lasso = Pipeline(steps=[('scaler', StandardScaler()), ('model', Lasso(alpha=0.0001))])\n",
    "pipe_scaled_lasso.fit(X_train, y_train)"
   ]
  },
  {
   "cell_type": "code",
   "execution_count": 50,
   "metadata": {},
   "outputs": [
    {
     "data": {
      "text/plain": [
       "164004    46999\n",
       "189131     8995\n",
       "394301        0\n",
       "74720      9995\n",
       "19380     23839\n",
       "          ...  \n",
       "259178     6800\n",
       "365838    36000\n",
       "131932    18995\n",
       "146867      269\n",
       "121958    28995\n",
       "Name: price, Length: 298816, dtype: int64"
      ]
     },
     "execution_count": 50,
     "metadata": {},
     "output_type": "execute_result"
    }
   ],
   "source": [
    "y_train"
   ]
  },
  {
   "cell_type": "code",
   "execution_count": 51,
   "metadata": {},
   "outputs": [
    {
     "data": {
      "text/plain": [
       "array([  49726.80722685,   59035.95360703, -100595.73346197, ...,\n",
       "        -89786.2285586 ,  -62255.81739652,   11627.58972727])"
      ]
     },
     "execution_count": 51,
     "metadata": {},
     "output_type": "execute_result"
    }
   ],
   "source": [
    "y_pred_lasso = pipe_scaled_lasso.predict(X_test)\n",
    "y_pred_lasso"
   ]
  },
  {
   "cell_type": "code",
   "execution_count": 52,
   "metadata": {},
   "outputs": [
    {
     "data": {
      "image/png": "[encoded data removed]",
      "text/plain": [
       "<Figure size 432x432 with 1 Axes>"
      ]
     },
     "metadata": {
      "needs_background": "light"
     },
     "output_type": "display_data"
    }
   ],
   "source": [
    "#Ploting feature importance graph\n",
    "\n",
    "coef = pd.Series(pipe_scaled_lasso.named_steps[\"model\"].coef_, index = X_train.columns)\n",
    "imp_coef = coef.sort_values()\n",
    "plt.rcParams['figure.figsize'] = (6.0, 6.0)\n",
    "imp_coef.plot(kind = \"barh\")\n",
    "plt.title(\"Feature importance using Lasso Regression Model\")\n",
    "plt.savefig('Lassp-Regression-Feature-Importance.jpg')\n",
    "plt.show()"
   ]
  },
  {
   "cell_type": "markdown",
   "metadata": {},
   "source": [
    "### Evaluation\n",
    "\n",
    "With some modeling accomplished, we aim to reflect on what we identify as a high quality model and what we are able to learn from this.  We should review our business objective and explore how well we can provide meaningful insight on drivers of used car prices.  Your goal now is to distill your findings and determine whether the earlier phases need revisitation and adjustment or if you have information of value to bring back to your client."
   ]
  },
  {
   "cell_type": "markdown",
   "metadata": {},
   "source": [
    "#### We will calculate Mean Squared Error, RMSE, and Mean Absolute Error to find the accuracy of each model we built earlier."
   ]
  },
  {
   "cell_type": "code",
   "execution_count": 53,
   "metadata": {},
   "outputs": [
    {
     "name": "stdout",
     "output_type": "stream",
     "text": [
      "Lasso Regression Loss Functions:\n",
      "\n",
      "MSE: 261026904664461.1 \n",
      "MAE: 179502.65933532573 \n",
      "RMSE: 16156327.078406809\n"
     ]
    }
   ],
   "source": [
    "mse_lasso = mean_squared_error(y_pred_lasso, y_test)\n",
    "mae_lasso = mean_absolute_error(y_pred_lasso, y_test)\n",
    "rmse_lasso = np.sqrt(mse_lasso)\n",
    "\n",
    "print('Lasso Regression Loss Functions:\\n\\nMSE: {} \\nMAE: {} \\nRMSE: {}'.format(mse_lasso, mae_lasso, rmse_lasso))"
   ]
  },
  {
   "cell_type": "code",
   "execution_count": 54,
   "metadata": {},
   "outputs": [
    {
     "name": "stdout",
     "output_type": "stream",
     "text": [
      "Ridge Regression Loss Functions:\n",
      "\n",
      "MSE: 261026898650724.66 \n",
      "MAE: 179498.73950970566 \n",
      "RMSE: 16156326.89229593 \n"
     ]
    }
   ],
   "source": [
    "mse_ridge = mean_squared_error(y_pred_ridge, y_test)\n",
    "mae_ridge = mean_absolute_error(y_pred_ridge, y_test)\n",
    "rmse_lasso = np.sqrt(mse_ridge)\n",
    "\n",
    "print('Ridge Regression Loss Functions:\\n\\nMSE: {} \\nMAE: {} \\nRMSE: {} '.format(mse_ridge, mae_ridge, rmse_lasso))"
   ]
  },
  {
   "cell_type": "code",
   "execution_count": 55,
   "metadata": {},
   "outputs": [
    {
     "name": "stdout",
     "output_type": "stream",
     "text": [
      "Linear Regression Loss Functions:\n",
      "\n",
      "MSE: 261026904664502.3 \n",
      "MAE: 179502.6594189809 \n",
      "RMSE: 16156327.078408085\n"
     ]
    }
   ],
   "source": [
    "mse_linear = mean_squared_error(y_pred_linear, y_test)\n",
    "mae_linear = mean_absolute_error(y_pred_linear, y_test)\n",
    "rmse_linear = np.sqrt(mse_linear)\n",
    "\n",
    "print('Linear Regression Loss Functions:\\n\\nMSE: {} \\nMAE: {} \\nRMSE: {}'.format(mse_linear, mae_linear, rmse_linear))"
   ]
  },
  {
   "cell_type": "markdown",
   "metadata": {},
   "source": [
    "### Deployment\n",
    "\n",
    "Now that we've settled on our models and findings, it is time to deliver the information to the client.  You should organize your work as a basic report that details your primary findings.  Keep in mind that your audience is a group of used car dealers interested in fine tuning their inventory."
   ]
  },
  {
   "cell_type": "code",
   "execution_count": null,
   "metadata": {},
   "outputs": [],
   "source": []
  },
  {
   "cell_type": "code",
   "execution_count": null,
   "metadata": {},
   "outputs": [],
   "source": []
  },
  {
   "cell_type": "code",
   "execution_count": null,
   "metadata": {},
   "outputs": [],
   "source": []
  },
  {
   "cell_type": "code",
   "execution_count": null,
   "metadata": {},
   "outputs": [],
   "source": []
  },
  {
   "cell_type": "code",
   "execution_count": null,
   "metadata": {},
   "outputs": [],
   "source": []
  },
  {
   "cell_type": "code",
   "execution_count": null,
   "metadata": {},
   "outputs": [],
   "source": []
  },
  {
   "cell_type": "code",
   "execution_count": null,
   "metadata": {},
   "outputs": [],
   "source": []
  },
  {
   "cell_type": "markdown",
   "metadata": {},
   "source": [
    "<b><i>References</b></i>\n",
    "\n",
    "* https://machinelearningmastery.com/standardscaler-and-minmaxscaler-transforms-in-python/ (Normalization & Standarization)\n",
    "* https://www.analyticsvidhya.com/blog/2021/05/understanding-column-transformer-and-machine-learning-pipelines/ (Column Transformer)\n",
    "* https://machinelearningmastery.com/iterative-imputation-for-missing-values-in-machine-learning/ (Imputation)"
   ]
  },
  {
   "cell_type": "code",
   "execution_count": 18,
   "metadata": {},
   "outputs": [],
   "source": [
    "# # we will use Column Transformer for the columns - condition, title and fuel\n",
    "# #Inspired from the article - https://bait509-ubc.github.io/BAIT509/lectures/lecture5.html\n",
    "\n",
    "\n",
    "# #condition and title ordering to be used in OrdinalEncoder\n",
    "# rating_order_cond = ['salvage', 'fair', 'good', 'like new', 'excellent', 'new'] \n",
    "# rating_order_title = ['salvage', 'missing', 'parts only', 'rebuilt', 'lien', 'clean']\n",
    "                                          \n",
    "# categorical_transformer = Pipeline(steps=[(\"ordinal\", OrdinalEncoder(categories='rating_order_cond')), \n",
    "#                                          (\"ordinal1\", OrdinalEncoder(categories='rating_order_title')),\n",
    "#                                          (\"onehot\", OneHotEncoder(sparse=False, handle_unknown=\"ignore\"))])                                       \n",
    "\n",
    "# col_transformer = ColumnTransformer(transformers=[(\"categorical\", categorical_transformer, categorical_features)], \n",
    "#                                     remainder='passthrough')\n",
    "\n",
    "# #col_transformer.fit(auto_copy)\n"
   ]
  },
  {
   "cell_type": "code",
   "execution_count": 19,
   "metadata": {},
   "outputs": [],
   "source": [
    "# numeric_transformer = Pipeline(\n",
    "#     steps=[(\"imputer\", SimpleImputer(strategy=\"median\")), \n",
    "#            (\"scaler\", StandardScaler())]\n",
    "# )\n",
    "\n",
    "# categorical_transformer = Pipeline(\n",
    "#     steps=[(\"imputer\", SimpleImputer(strategy=\"constant\", fill_value=\"missing\"))]\n",
    "# )\n",
    "\n"
   ]
  },
  {
   "cell_type": "code",
   "execution_count": 20,
   "metadata": {},
   "outputs": [],
   "source": [
    "# col_transformer = ColumnTransformer(\n",
    "#     transformers=[\n",
    "#         (\"numeric\", numeric_transformer, numeric_features[1]),\n",
    "#         (\"categorical\", categorical_transformer, categorical_features)\n",
    "#     ],\n",
    "#     remainder='passthrough'\n",
    "# )\n",
    "\n",
    "# col_transformer = ColumnTransformer(\n",
    "#     transformers=[\n",
    "#         (\"numeric\", numeric_transformer, numeric_features)\n",
    "#     ],\n",
    "#     remainder='passthrough'\n",
    "# )\n",
    "\n",
    "# Display Pipeline\n",
    "# from sklearn import set_config\n",
    "# set_config(display='diagram')\n"
   ]
  },
  {
   "cell_type": "code",
   "execution_count": null,
   "metadata": {},
   "outputs": [],
   "source": []
  }
 ],
 "metadata": {
  "kernelspec": {
   "display_name": "Python 3",
   "language": "python",
   "name": "python3"
  },
  "language_info": {
   "codemirror_mode": {
    "name": "ipython",
    "version": 3
   },
   "file_extension": ".py",
   "mimetype": "text/x-python",
   "name": "python",
   "nbconvert_exporter": "python",
   "pygments_lexer": "ipython3",
   "version": "3.8.8"
  },
  "widgets": {
   "application/vnd.jupyter.widget-state+json": {
    "state": {},
    "version_major": 2,
    "version_minor": 0
   }
  }
 },
 "nbformat": 4,
 "nbformat_minor": 4
}
